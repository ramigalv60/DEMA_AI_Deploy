{
 "cells": [
  {
   "cell_type": "code",
   "execution_count": 24,
   "id": "36ca6c07",
   "metadata": {
    "_cell_guid": "b1076dfc-b9ad-4769-8c92-a6c4dae69d19",
    "_uuid": "8f2839f25d086af736a60e9eeb907d3b93b6e0e5",
    "execution": {
     "iopub.execute_input": "2024-05-24T00:54:26.392514Z",
     "iopub.status.busy": "2024-05-24T00:54:26.392193Z",
     "iopub.status.idle": "2024-05-24T00:54:39.715742Z",
     "shell.execute_reply": "2024-05-24T00:54:39.714938Z"
    },
    "papermill": {
     "duration": 13.338642,
     "end_time": "2024-05-24T00:54:39.718126",
     "exception": false,
     "start_time": "2024-05-24T00:54:26.379484",
     "status": "completed"
    },
    "tags": []
   },
   "outputs": [],
   "source": [
    "import os\n",
    "import keras\n",
    "import tensorflow as tf\n",
    "\n",
    "import pandas as pd\n",
    "import numpy as np\n",
    "\n",
    "import matplotlib.pyplot as plt\n",
    "from sklearn.preprocessing import StandardScaler, LabelEncoder\n",
    "from sklearn.model_selection import train_test_split"
   ]
  },
  {
   "cell_type": "markdown",
   "id": "3c1eabba",
   "metadata": {
    "papermill": {
     "duration": 0.010853,
     "end_time": "2024-05-24T00:54:39.740794",
     "exception": false,
     "start_time": "2024-05-24T00:54:39.729941",
     "status": "completed"
    },
    "tags": []
   },
   "source": [
    "# Configuration"
   ]
  },
  {
   "cell_type": "code",
   "execution_count": 25,
   "id": "4ebc9203",
   "metadata": {
    "execution": {
     "iopub.execute_input": "2024-05-24T00:54:39.764563Z",
     "iopub.status.busy": "2024-05-24T00:54:39.763996Z",
     "iopub.status.idle": "2024-05-24T00:54:39.769945Z",
     "shell.execute_reply": "2024-05-24T00:54:39.769093Z"
    },
    "papermill": {
     "duration": 0.019993,
     "end_time": "2024-05-24T00:54:39.771704",
     "exception": false,
     "start_time": "2024-05-24T00:54:39.751711",
     "status": "completed"
    },
    "tags": []
   },
   "outputs": [],
   "source": [
    "class CFG:\n",
    "    # General settings\n",
    "    verbose = 1  # Verbosity\n",
    "    seed = 42  # Random seed\n",
    "    preset = \"efficientnetv2_b0_imagenet\"  # Name of pretrained classifier\n",
    "    image_size = (224, 224)  # Input image size\n",
    "\n",
    "    # Training settings\n",
    "    batch_size = 96  # Batch size\n",
    "    lr_mode = \"cos\"  # LR scheduler mode from one of \"cos\", \"step\", \"exp\"\n",
    "    drop_remainder = True  # Drop incomplete batches\n",
    "\n",
    "    # Dataset settings\n",
    "    num_folds = 5  # Number of folds to split the dataset\n",
    "    fold = 0  # Which fold to set as validation data\n",
    "    class_names = ['Malignant' , 'Benign',]\n",
    "    num_classes = 1\n",
    "    epochs = 50"
   ]
  },
  {
   "cell_type": "code",
   "execution_count": 26,
   "id": "1d291cd7",
   "metadata": {
    "execution": {
     "iopub.execute_input": "2024-05-24T00:54:39.796152Z",
     "iopub.status.busy": "2024-05-24T00:54:39.795823Z",
     "iopub.status.idle": "2024-05-24T00:54:39.799914Z",
     "shell.execute_reply": "2024-05-24T00:54:39.798939Z"
    },
    "papermill": {
     "duration": 0.018664,
     "end_time": "2024-05-24T00:54:39.801974",
     "exception": false,
     "start_time": "2024-05-24T00:54:39.783310",
     "status": "completed"
    },
    "tags": []
   },
   "outputs": [],
   "source": [
    "tf.random.set_seed(CFG.seed)"
   ]
  },
  {
   "cell_type": "markdown",
   "id": "a4a5fdd2",
   "metadata": {
    "papermill": {
     "duration": 0.011192,
     "end_time": "2024-05-24T00:54:39.824158",
     "exception": false,
     "start_time": "2024-05-24T00:54:39.812966",
     "status": "completed"
    },
    "tags": []
   },
   "source": [
    "# Load Dataset"
   ]
  },
  {
   "cell_type": "code",
   "execution_count": 27,
   "id": "7008a452",
   "metadata": {
    "execution": {
     "iopub.execute_input": "2024-05-24T00:54:39.847139Z",
     "iopub.status.busy": "2024-05-24T00:54:39.846856Z",
     "iopub.status.idle": "2024-05-24T00:54:39.850530Z",
     "shell.execute_reply": "2024-05-24T00:54:39.849671Z"
    },
    "papermill": {
     "duration": 0.017394,
     "end_time": "2024-05-24T00:54:39.852572",
     "exception": false,
     "start_time": "2024-05-24T00:54:39.835178",
     "status": "completed"
    },
    "tags": []
   },
   "outputs": [],
   "source": [
    "BASE_PATH = \"./kaggle\""
   ]
  },
  {
   "cell_type": "code",
   "execution_count": 28,
   "id": "d2878b81",
   "metadata": {
    "execution": {
     "iopub.execute_input": "2024-05-24T00:54:39.876978Z",
     "iopub.status.busy": "2024-05-24T00:54:39.876670Z",
     "iopub.status.idle": "2024-05-24T00:54:40.059291Z",
     "shell.execute_reply": "2024-05-24T00:54:40.058349Z"
    },
    "papermill": {
     "duration": 0.19659,
     "end_time": "2024-05-24T00:54:40.061456",
     "exception": false,
     "start_time": "2024-05-24T00:54:39.864866",
     "status": "completed"
    },
    "tags": []
   },
   "outputs": [
    {
     "data": {
      "text/html": [
       "<div>\n",
       "<style scoped>\n",
       "    .dataframe tbody tr th:only-of-type {\n",
       "        vertical-align: middle;\n",
       "    }\n",
       "\n",
       "    .dataframe tbody tr th {\n",
       "        vertical-align: top;\n",
       "    }\n",
       "\n",
       "    .dataframe thead th {\n",
       "        text-align: right;\n",
       "    }\n",
       "</style>\n",
       "<table border=\"1\" class=\"dataframe\">\n",
       "  <thead>\n",
       "    <tr style=\"text-align: right;\">\n",
       "      <th></th>\n",
       "      <th>image</th>\n",
       "      <th>target</th>\n",
       "      <th>diagnosis</th>\n",
       "      <th>images</th>\n",
       "    </tr>\n",
       "  </thead>\n",
       "  <tbody>\n",
       "    <tr>\n",
       "      <th>0</th>\n",
       "      <td>ISIC_0000000</td>\n",
       "      <td>0.0</td>\n",
       "      <td>benign</td>\n",
       "      <td>./kaggle/input/ISIC-2019/ISIC_0000000.jpg</td>\n",
       "    </tr>\n",
       "    <tr>\n",
       "      <th>1</th>\n",
       "      <td>ISIC_0000001</td>\n",
       "      <td>0.0</td>\n",
       "      <td>benign</td>\n",
       "      <td>./kaggle/input/ISIC-2019/ISIC_0000001.jpg</td>\n",
       "    </tr>\n",
       "    <tr>\n",
       "      <th>2</th>\n",
       "      <td>ISIC_0000002</td>\n",
       "      <td>1.0</td>\n",
       "      <td>malignant</td>\n",
       "      <td>./kaggle/input/ISIC-2019/ISIC_0000002.jpg</td>\n",
       "    </tr>\n",
       "    <tr>\n",
       "      <th>3</th>\n",
       "      <td>ISIC_0000003</td>\n",
       "      <td>0.0</td>\n",
       "      <td>benign</td>\n",
       "      <td>./kaggle/input/ISIC-2019/ISIC_0000003.jpg</td>\n",
       "    </tr>\n",
       "    <tr>\n",
       "      <th>4</th>\n",
       "      <td>ISIC_0000004</td>\n",
       "      <td>1.0</td>\n",
       "      <td>malignant</td>\n",
       "      <td>./kaggle/input/ISIC-2019/ISIC_0000004.jpg</td>\n",
       "    </tr>\n",
       "  </tbody>\n",
       "</table>\n",
       "</div>"
      ],
      "text/plain": [
       "          image  target  diagnosis                                     images\n",
       "0  ISIC_0000000     0.0     benign  ./kaggle/input/ISIC-2019/ISIC_0000000.jpg\n",
       "1  ISIC_0000001     0.0     benign  ./kaggle/input/ISIC-2019/ISIC_0000001.jpg\n",
       "2  ISIC_0000002     1.0  malignant  ./kaggle/input/ISIC-2019/ISIC_0000002.jpg\n",
       "3  ISIC_0000003     0.0     benign  ./kaggle/input/ISIC-2019/ISIC_0000003.jpg\n",
       "4  ISIC_0000004     1.0  malignant  ./kaggle/input/ISIC-2019/ISIC_0000004.jpg"
      ]
     },
     "execution_count": 28,
     "metadata": {},
     "output_type": "execute_result"
    }
   ],
   "source": [
    "metadata = pd.read_csv(f'{BASE_PATH}/ISIC_2019_Training_Metadata.csv')\n",
    "ground_truth = pd.read_csv(f'{BASE_PATH}/ISIC_2019_Training_GroundTruth.csv')\n",
    "# Concatenate the two DataFrames based on the 'image' column\n",
    "merge_df = pd.merge(ground_truth, metadata, on='image').drop('lesion_id', axis=1)\n",
    "merge_df['target'] = merge_df[['MEL', 'BCC', 'AK', 'SCC']].sum(axis=1) # 1 for Malignant\n",
    "diagnosis_map = {0: 'benign', 1: 'malignant'}\n",
    "merge_df['diagnosis'] = merge_df['target'].map(diagnosis_map)\n",
    "df = merge_df.loc[:, ['image', 'target', 'diagnosis']]\n",
    "df['images'] = f'{BASE_PATH}/input/ISIC-2019/' + df['image'] + '.jpg'\n",
    "# data['anatom_site_general'] = data['anatom_site_general'].replace(['lateral torso', 'anterior torso', 'posterior torso'], 'torso')\n",
    "df.head()"
   ]
  },
  {
   "cell_type": "code",
   "execution_count": 29,
   "id": "b91f1b0a",
   "metadata": {
    "execution": {
     "iopub.execute_input": "2024-05-24T00:54:40.085544Z",
     "iopub.status.busy": "2024-05-24T00:54:40.085235Z",
     "iopub.status.idle": "2024-05-24T00:54:40.649656Z",
     "shell.execute_reply": "2024-05-24T00:54:40.648621Z"
    },
    "papermill": {
     "duration": 0.578805,
     "end_time": "2024-05-24T00:54:40.652023",
     "exception": false,
     "start_time": "2024-05-24T00:54:40.073218",
     "status": "completed"
    },
    "tags": []
   },
   "outputs": [
    {
     "data": {
      "image/png": "[encoded data removed]",
      "text/plain": [
       "<Figure size 640x480 with 1 Axes>"
      ]
     },
     "metadata": {},
     "output_type": "display_data"
    }
   ],
   "source": [
    "# @title diagnosis\n",
    "\n",
    "import seaborn as sns\n",
    "df.groupby('diagnosis').size().plot(kind='barh', color=sns.palettes.mpl_palette('Dark2'))\n",
    "plt.gca().spines[['top', 'right',]].set_visible(False)"
   ]
  },
  {
   "cell_type": "code",
   "execution_count": 30,
   "id": "7709588c",
   "metadata": {
    "execution": {
     "iopub.execute_input": "2024-05-24T00:54:40.680735Z",
     "iopub.status.busy": "2024-05-24T00:54:40.680391Z",
     "iopub.status.idle": "2024-05-24T00:54:43.458179Z",
     "shell.execute_reply": "2024-05-24T00:54:43.457180Z"
    },
    "papermill": {
     "duration": 2.793244,
     "end_time": "2024-05-24T00:54:43.460502",
     "exception": false,
     "start_time": "2024-05-24T00:54:40.667258",
     "status": "completed"
    },
    "tags": []
   },
   "outputs": [],
   "source": [
    "# Split the dataset into features and target\n",
    "X = df[[\"images\"]]\n",
    "y = df[\"target\"]\n",
    "\n",
    "# Convert target values to float32\n",
    "y = y.astype('float32')\n",
    "\n",
    "# Split the dataset into train and test sets\n",
    "X_train, X_test, y_train, y_test = train_test_split(X, y, test_size=0.4, random_state=42, stratify=y)\n",
    "X, y = X_test, y_test\n",
    "X_validation, X_test, y_validation, y_test = train_test_split(X, y, test_size=0.5, random_state=42, stratify=y)\n",
    "\n",
    "# Create a TensorFlow dataset from the preprocessed data\n",
    "def load_and_preprocess_image(image_path):\n",
    "    # Read and preprocess image\n",
    "    image = tf.io.read_file(image_path)\n",
    "    image = tf.image.decode_jpeg(image, channels=3)\n",
    "    image = tf.image.resize(image, CFG.image_size)  # adjust size as needed\n",
    "    return image\n",
    "\n",
    "def create_tf_dataset(X, y, batch_size=32, shuffle=True,repeat =True):\n",
    "    image_paths = X['images'].tolist()\n",
    "    X.drop('images',axis=1,inplace=True)\n",
    "    dataset = tf.data.Dataset.from_tensor_slices((image_paths, y))\n",
    "\n",
    "    if shuffle:\n",
    "        dataset = dataset.shuffle(buffer_size=len(X))\n",
    "\n",
    "    # Read and preprocess images, include them in the batch\n",
    "    def load_image(image_path, label):\n",
    "        image = load_and_preprocess_image(image_path)\n",
    "        return image, label\n",
    "\n",
    "    dataset = dataset.map(load_image, num_parallel_calls=tf.data.experimental.AUTOTUNE)\n",
    "    dataset = dataset.batch(batch_size)\n",
    "    return dataset\n",
    "\n",
    "batch_size = CFG.batch_size\n",
    "train_dataset = create_tf_dataset(X_train, y_train, batch_size=batch_size)\n",
    "validation_dataset = create_tf_dataset(X_validation, y_validation, batch_size=batch_size, shuffle=False)\n",
    "test_dataset = create_tf_dataset(X_test, y_test, batch_size=batch_size, shuffle=False)"
   ]
  },
  {
   "cell_type": "markdown",
   "id": "0d724421",
   "metadata": {
    "papermill": {
     "duration": 0.011406,
     "end_time": "2024-05-24T00:54:43.483616",
     "exception": false,
     "start_time": "2024-05-24T00:54:43.472210",
     "status": "completed"
    },
    "tags": []
   },
   "source": [
    "# Setup base model (EfficientNet)"
   ]
  },
  {
   "cell_type": "code",
   "execution_count": 31,
   "id": "17b7be65",
   "metadata": {
    "execution": {
     "iopub.execute_input": "2024-05-24T00:54:43.507593Z",
     "iopub.status.busy": "2024-05-24T00:54:43.507301Z",
     "iopub.status.idle": "2024-05-24T00:54:43.511749Z",
     "shell.execute_reply": "2024-05-24T00:54:43.510907Z"
    },
    "papermill": {
     "duration": 0.018834,
     "end_time": "2024-05-24T00:54:43.513806",
     "exception": false,
     "start_time": "2024-05-24T00:54:43.494972",
     "status": "completed"
    },
    "tags": []
   },
   "outputs": [],
   "source": [
    "preprocess_input = tf.keras.applications.efficientnet_v2.preprocess_input"
   ]
  },
  {
   "cell_type": "code",
   "execution_count": 32,
   "id": "15edf331",
   "metadata": {
    "execution": {
     "iopub.execute_input": "2024-05-24T00:54:43.538227Z",
     "iopub.status.busy": "2024-05-24T00:54:43.537962Z",
     "iopub.status.idle": "2024-05-24T00:54:45.979969Z",
     "shell.execute_reply": "2024-05-24T00:54:45.979109Z"
    },
    "papermill": {
     "duration": 2.464708,
     "end_time": "2024-05-24T00:54:45.990308",
     "exception": false,
     "start_time": "2024-05-24T00:54:43.525600",
     "status": "completed"
    },
    "tags": []
   },
   "outputs": [
    {
     "name": "stdout",
     "output_type": "stream",
     "text": [
      "Model: \"efficientnetv2-b0\"\n",
      "__________________________________________________________________________________________________\n",
      " Layer (type)                Output Shape                 Param #   Connected to                  \n",
      "==================================================================================================\n",
      " input_3 (InputLayer)        [(None, 224, 224, 3)]        0         []                            \n",
      "                                                                                                  \n",
      " rescaling_1 (Rescaling)     (None, 224, 224, 3)          0         ['input_3[0][0]']             \n",
      "                                                                                                  \n",
      " normalization_1 (Normaliza  (None, 224, 224, 3)          0         ['rescaling_1[0][0]']         \n",
      " tion)                                                                                            \n",
      "                                                                                                  \n",
      " stem_conv (Conv2D)          (None, 112, 112, 32)         864       ['normalization_1[0][0]']     \n",
      "                                                                                                  \n",
      " stem_bn (BatchNormalizatio  (None, 112, 112, 32)         128       ['stem_conv[0][0]']           \n",
      " n)                                                                                               \n",
      "                                                                                                  \n",
      " stem_activation (Activatio  (None, 112, 112, 32)         0         ['stem_bn[0][0]']             \n",
      " n)                                                                                               \n",
      "                                                                                                  \n",
      " block1a_project_conv (Conv  (None, 112, 112, 16)         4608      ['stem_activation[0][0]']     \n",
      " 2D)                                                                                              \n",
      "                                                                                                  \n",
      " block1a_project_bn (BatchN  (None, 112, 112, 16)         64        ['block1a_project_conv[0][0]']\n",
      " ormalization)                                                                                    \n",
      "                                                                                                  \n",
      " block1a_project_activation  (None, 112, 112, 16)         0         ['block1a_project_bn[0][0]']  \n",
      "  (Activation)                                                                                    \n",
      "                                                                                                  \n",
      " block2a_expand_conv (Conv2  (None, 56, 56, 64)           9216      ['block1a_project_activation[0\n",
      " D)                                                                 ][0]']                        \n",
      "                                                                                                  \n",
      " block2a_expand_bn (BatchNo  (None, 56, 56, 64)           256       ['block2a_expand_conv[0][0]'] \n",
      " rmalization)                                                                                     \n",
      "                                                                                                  \n",
      " block2a_expand_activation   (None, 56, 56, 64)           0         ['block2a_expand_bn[0][0]']   \n",
      " (Activation)                                                                                     \n",
      "                                                                                                  \n",
      " block2a_project_conv (Conv  (None, 56, 56, 32)           2048      ['block2a_expand_activation[0]\n",
      " 2D)                                                                [0]']                         \n",
      "                                                                                                  \n",
      " block2a_project_bn (BatchN  (None, 56, 56, 32)           128       ['block2a_project_conv[0][0]']\n",
      " ormalization)                                                                                    \n",
      "                                                                                                  \n",
      " block2b_expand_conv (Conv2  (None, 56, 56, 128)          36864     ['block2a_project_bn[0][0]']  \n",
      " D)                                                                                               \n",
      "                                                                                                  \n",
      " block2b_expand_bn (BatchNo  (None, 56, 56, 128)          512       ['block2b_expand_conv[0][0]'] \n",
      " rmalization)                                                                                     \n",
      "                                                                                                  \n",
      " block2b_expand_activation   (None, 56, 56, 128)          0         ['block2b_expand_bn[0][0]']   \n",
      " (Activation)                                                                                     \n",
      "                                                                                                  \n",
      " block2b_project_conv (Conv  (None, 56, 56, 32)           4096      ['block2b_expand_activation[0]\n",
      " 2D)                                                                [0]']                         \n",
      "                                                                                                  \n",
      " block2b_project_bn (BatchN  (None, 56, 56, 32)           128       ['block2b_project_conv[0][0]']\n",
      " ormalization)                                                                                    \n",
      "                                                                                                  \n",
      " block2b_drop (Dropout)      (None, 56, 56, 32)           0         ['block2b_project_bn[0][0]']  \n",
      "                                                                                                  \n",
      " block2b_add (Add)           (None, 56, 56, 32)           0         ['block2b_drop[0][0]',        \n",
      "                                                                     'block2a_project_bn[0][0]']  \n",
      "                                                                                                  \n",
      " block3a_expand_conv (Conv2  (None, 28, 28, 128)          36864     ['block2b_add[0][0]']         \n",
      " D)                                                                                               \n",
      "                                                                                                  \n",
      " block3a_expand_bn (BatchNo  (None, 28, 28, 128)          512       ['block3a_expand_conv[0][0]'] \n",
      " rmalization)                                                                                     \n",
      "                                                                                                  \n",
      " block3a_expand_activation   (None, 28, 28, 128)          0         ['block3a_expand_bn[0][0]']   \n",
      " (Activation)                                                                                     \n",
      "                                                                                                  \n",
      " block3a_project_conv (Conv  (None, 28, 28, 48)           6144      ['block3a_expand_activation[0]\n",
      " 2D)                                                                [0]']                         \n",
      "                                                                                                  \n",
      " block3a_project_bn (BatchN  (None, 28, 28, 48)           192       ['block3a_project_conv[0][0]']\n",
      " ormalization)                                                                                    \n",
      "                                                                                                  \n",
      " block3b_expand_conv (Conv2  (None, 28, 28, 192)          82944     ['block3a_project_bn[0][0]']  \n",
      " D)                                                                                               \n",
      "                                                                                                  \n",
      " block3b_expand_bn (BatchNo  (None, 28, 28, 192)          768       ['block3b_expand_conv[0][0]'] \n",
      " rmalization)                                                                                     \n",
      "                                                                                                  \n",
      " block3b_expand_activation   (None, 28, 28, 192)          0         ['block3b_expand_bn[0][0]']   \n",
      " (Activation)                                                                                     \n",
      "                                                                                                  \n",
      " block3b_project_conv (Conv  (None, 28, 28, 48)           9216      ['block3b_expand_activation[0]\n",
      " 2D)                                                                [0]']                         \n",
      "                                                                                                  \n",
      " block3b_project_bn (BatchN  (None, 28, 28, 48)           192       ['block3b_project_conv[0][0]']\n",
      " ormalization)                                                                                    \n",
      "                                                                                                  \n",
      " block3b_drop (Dropout)      (None, 28, 28, 48)           0         ['block3b_project_bn[0][0]']  \n",
      "                                                                                                  \n",
      " block3b_add (Add)           (None, 28, 28, 48)           0         ['block3b_drop[0][0]',        \n",
      "                                                                     'block3a_project_bn[0][0]']  \n",
      "                                                                                                  \n",
      " block4a_expand_conv (Conv2  (None, 28, 28, 192)          9216      ['block3b_add[0][0]']         \n",
      " D)                                                                                               \n",
      "                                                                                                  \n",
      " block4a_expand_bn (BatchNo  (None, 28, 28, 192)          768       ['block4a_expand_conv[0][0]'] \n",
      " rmalization)                                                                                     \n",
      "                                                                                                  \n",
      " block4a_expand_activation   (None, 28, 28, 192)          0         ['block4a_expand_bn[0][0]']   \n",
      " (Activation)                                                                                     \n",
      "                                                                                                  \n",
      " block4a_dwconv2 (Depthwise  (None, 14, 14, 192)          1728      ['block4a_expand_activation[0]\n",
      " Conv2D)                                                            [0]']                         \n",
      "                                                                                                  \n",
      " block4a_bn (BatchNormaliza  (None, 14, 14, 192)          768       ['block4a_dwconv2[0][0]']     \n",
      " tion)                                                                                            \n",
      "                                                                                                  \n",
      " block4a_activation (Activa  (None, 14, 14, 192)          0         ['block4a_bn[0][0]']          \n",
      " tion)                                                                                            \n",
      "                                                                                                  \n",
      " block4a_se_squeeze (Global  (None, 192)                  0         ['block4a_activation[0][0]']  \n",
      " AveragePooling2D)                                                                                \n",
      "                                                                                                  \n",
      " block4a_se_reshape (Reshap  (None, 1, 1, 192)            0         ['block4a_se_squeeze[0][0]']  \n",
      " e)                                                                                               \n",
      "                                                                                                  \n",
      " block4a_se_reduce (Conv2D)  (None, 1, 1, 12)             2316      ['block4a_se_reshape[0][0]']  \n",
      "                                                                                                  \n",
      " block4a_se_expand (Conv2D)  (None, 1, 1, 192)            2496      ['block4a_se_reduce[0][0]']   \n",
      "                                                                                                  \n",
      " block4a_se_excite (Multipl  (None, 14, 14, 192)          0         ['block4a_activation[0][0]',  \n",
      " y)                                                                  'block4a_se_expand[0][0]']   \n",
      "                                                                                                  \n",
      " block4a_project_conv (Conv  (None, 14, 14, 96)           18432     ['block4a_se_excite[0][0]']   \n",
      " 2D)                                                                                              \n",
      "                                                                                                  \n",
      " block4a_project_bn (BatchN  (None, 14, 14, 96)           384       ['block4a_project_conv[0][0]']\n",
      " ormalization)                                                                                    \n",
      "                                                                                                  \n",
      " block4b_expand_conv (Conv2  (None, 14, 14, 384)          36864     ['block4a_project_bn[0][0]']  \n",
      " D)                                                                                               \n",
      "                                                                                                  \n",
      " block4b_expand_bn (BatchNo  (None, 14, 14, 384)          1536      ['block4b_expand_conv[0][0]'] \n",
      " rmalization)                                                                                     \n",
      "                                                                                                  \n",
      " block4b_expand_activation   (None, 14, 14, 384)          0         ['block4b_expand_bn[0][0]']   \n",
      " (Activation)                                                                                     \n",
      "                                                                                                  \n",
      " block4b_dwconv2 (Depthwise  (None, 14, 14, 384)          3456      ['block4b_expand_activation[0]\n",
      " Conv2D)                                                            [0]']                         \n",
      "                                                                                                  \n",
      " block4b_bn (BatchNormaliza  (None, 14, 14, 384)          1536      ['block4b_dwconv2[0][0]']     \n",
      " tion)                                                                                            \n",
      "                                                                                                  \n",
      " block4b_activation (Activa  (None, 14, 14, 384)          0         ['block4b_bn[0][0]']          \n",
      " tion)                                                                                            \n",
      "                                                                                                  \n",
      " block4b_se_squeeze (Global  (None, 384)                  0         ['block4b_activation[0][0]']  \n",
      " AveragePooling2D)                                                                                \n",
      "                                                                                                  \n",
      " block4b_se_reshape (Reshap  (None, 1, 1, 384)            0         ['block4b_se_squeeze[0][0]']  \n",
      " e)                                                                                               \n",
      "                                                                                                  \n",
      " block4b_se_reduce (Conv2D)  (None, 1, 1, 24)             9240      ['block4b_se_reshape[0][0]']  \n",
      "                                                                                                  \n",
      " block4b_se_expand (Conv2D)  (None, 1, 1, 384)            9600      ['block4b_se_reduce[0][0]']   \n",
      "                                                                                                  \n",
      " block4b_se_excite (Multipl  (None, 14, 14, 384)          0         ['block4b_activation[0][0]',  \n",
      " y)                                                                  'block4b_se_expand[0][0]']   \n",
      "                                                                                                  \n",
      " block4b_project_conv (Conv  (None, 14, 14, 96)           36864     ['block4b_se_excite[0][0]']   \n",
      " 2D)                                                                                              \n",
      "                                                                                                  \n",
      " block4b_project_bn (BatchN  (None, 14, 14, 96)           384       ['block4b_project_conv[0][0]']\n",
      " ormalization)                                                                                    \n",
      "                                                                                                  \n",
      " block4b_drop (Dropout)      (None, 14, 14, 96)           0         ['block4b_project_bn[0][0]']  \n",
      "                                                                                                  \n",
      " block4b_add (Add)           (None, 14, 14, 96)           0         ['block4b_drop[0][0]',        \n",
      "                                                                     'block4a_project_bn[0][0]']  \n",
      "                                                                                                  \n",
      " block4c_expand_conv (Conv2  (None, 14, 14, 384)          36864     ['block4b_add[0][0]']         \n",
      " D)                                                                                               \n",
      "                                                                                                  \n",
      " block4c_expand_bn (BatchNo  (None, 14, 14, 384)          1536      ['block4c_expand_conv[0][0]'] \n",
      " rmalization)                                                                                     \n",
      "                                                                                                  \n",
      " block4c_expand_activation   (None, 14, 14, 384)          0         ['block4c_expand_bn[0][0]']   \n",
      " (Activation)                                                                                     \n",
      "                                                                                                  \n",
      " block4c_dwconv2 (Depthwise  (None, 14, 14, 384)          3456      ['block4c_expand_activation[0]\n",
      " Conv2D)                                                            [0]']                         \n",
      "                                                                                                  \n",
      " block4c_bn (BatchNormaliza  (None, 14, 14, 384)          1536      ['block4c_dwconv2[0][0]']     \n",
      " tion)                                                                                            \n",
      "                                                                                                  \n",
      " block4c_activation (Activa  (None, 14, 14, 384)          0         ['block4c_bn[0][0]']          \n",
      " tion)                                                                                            \n",
      "                                                                                                  \n",
      " block4c_se_squeeze (Global  (None, 384)                  0         ['block4c_activation[0][0]']  \n",
      " AveragePooling2D)                                                                                \n",
      "                                                                                                  \n",
      " block4c_se_reshape (Reshap  (None, 1, 1, 384)            0         ['block4c_se_squeeze[0][0]']  \n",
      " e)                                                                                               \n",
      "                                                                                                  \n",
      " block4c_se_reduce (Conv2D)  (None, 1, 1, 24)             9240      ['block4c_se_reshape[0][0]']  \n",
      "                                                                                                  \n",
      " block4c_se_expand (Conv2D)  (None, 1, 1, 384)            9600      ['block4c_se_reduce[0][0]']   \n",
      "                                                                                                  \n",
      " block4c_se_excite (Multipl  (None, 14, 14, 384)          0         ['block4c_activation[0][0]',  \n",
      " y)                                                                  'block4c_se_expand[0][0]']   \n",
      "                                                                                                  \n",
      " block4c_project_conv (Conv  (None, 14, 14, 96)           36864     ['block4c_se_excite[0][0]']   \n",
      " 2D)                                                                                              \n",
      "                                                                                                  \n",
      " block4c_project_bn (BatchN  (None, 14, 14, 96)           384       ['block4c_project_conv[0][0]']\n",
      " ormalization)                                                                                    \n",
      "                                                                                                  \n",
      " block4c_drop (Dropout)      (None, 14, 14, 96)           0         ['block4c_project_bn[0][0]']  \n",
      "                                                                                                  \n",
      " block4c_add (Add)           (None, 14, 14, 96)           0         ['block4c_drop[0][0]',        \n",
      "                                                                     'block4b_add[0][0]']         \n",
      "                                                                                                  \n",
      " block5a_expand_conv (Conv2  (None, 14, 14, 576)          55296     ['block4c_add[0][0]']         \n",
      " D)                                                                                               \n",
      "                                                                                                  \n",
      " block5a_expand_bn (BatchNo  (None, 14, 14, 576)          2304      ['block5a_expand_conv[0][0]'] \n",
      " rmalization)                                                                                     \n",
      "                                                                                                  \n",
      " block5a_expand_activation   (None, 14, 14, 576)          0         ['block5a_expand_bn[0][0]']   \n",
      " (Activation)                                                                                     \n",
      "                                                                                                  \n",
      " block5a_dwconv2 (Depthwise  (None, 14, 14, 576)          5184      ['block5a_expand_activation[0]\n",
      " Conv2D)                                                            [0]']                         \n",
      "                                                                                                  \n",
      " block5a_bn (BatchNormaliza  (None, 14, 14, 576)          2304      ['block5a_dwconv2[0][0]']     \n",
      " tion)                                                                                            \n",
      "                                                                                                  \n",
      " block5a_activation (Activa  (None, 14, 14, 576)          0         ['block5a_bn[0][0]']          \n",
      " tion)                                                                                            \n",
      "                                                                                                  \n",
      " block5a_se_squeeze (Global  (None, 576)                  0         ['block5a_activation[0][0]']  \n",
      " AveragePooling2D)                                                                                \n",
      "                                                                                                  \n",
      " block5a_se_reshape (Reshap  (None, 1, 1, 576)            0         ['block5a_se_squeeze[0][0]']  \n",
      " e)                                                                                               \n",
      "                                                                                                  \n",
      " block5a_se_reduce (Conv2D)  (None, 1, 1, 24)             13848     ['block5a_se_reshape[0][0]']  \n",
      "                                                                                                  \n",
      " block5a_se_expand (Conv2D)  (None, 1, 1, 576)            14400     ['block5a_se_reduce[0][0]']   \n",
      "                                                                                                  \n",
      " block5a_se_excite (Multipl  (None, 14, 14, 576)          0         ['block5a_activation[0][0]',  \n",
      " y)                                                                  'block5a_se_expand[0][0]']   \n",
      "                                                                                                  \n",
      " block5a_project_conv (Conv  (None, 14, 14, 112)          64512     ['block5a_se_excite[0][0]']   \n",
      " 2D)                                                                                              \n",
      "                                                                                                  \n",
      " block5a_project_bn (BatchN  (None, 14, 14, 112)          448       ['block5a_project_conv[0][0]']\n",
      " ormalization)                                                                                    \n",
      "                                                                                                  \n",
      " block5b_expand_conv (Conv2  (None, 14, 14, 672)          75264     ['block5a_project_bn[0][0]']  \n",
      " D)                                                                                               \n",
      "                                                                                                  \n",
      " block5b_expand_bn (BatchNo  (None, 14, 14, 672)          2688      ['block5b_expand_conv[0][0]'] \n",
      " rmalization)                                                                                     \n",
      "                                                                                                  \n",
      " block5b_expand_activation   (None, 14, 14, 672)          0         ['block5b_expand_bn[0][0]']   \n",
      " (Activation)                                                                                     \n",
      "                                                                                                  \n",
      " block5b_dwconv2 (Depthwise  (None, 14, 14, 672)          6048      ['block5b_expand_activation[0]\n",
      " Conv2D)                                                            [0]']                         \n",
      "                                                                                                  \n",
      " block5b_bn (BatchNormaliza  (None, 14, 14, 672)          2688      ['block5b_dwconv2[0][0]']     \n",
      " tion)                                                                                            \n",
      "                                                                                                  \n",
      " block5b_activation (Activa  (None, 14, 14, 672)          0         ['block5b_bn[0][0]']          \n",
      " tion)                                                                                            \n",
      "                                                                                                  \n",
      " block5b_se_squeeze (Global  (None, 672)                  0         ['block5b_activation[0][0]']  \n",
      " AveragePooling2D)                                                                                \n",
      "                                                                                                  \n",
      " block5b_se_reshape (Reshap  (None, 1, 1, 672)            0         ['block5b_se_squeeze[0][0]']  \n",
      " e)                                                                                               \n",
      "                                                                                                  \n",
      " block5b_se_reduce (Conv2D)  (None, 1, 1, 28)             18844     ['block5b_se_reshape[0][0]']  \n",
      "                                                                                                  \n",
      " block5b_se_expand (Conv2D)  (None, 1, 1, 672)            19488     ['block5b_se_reduce[0][0]']   \n",
      "                                                                                                  \n",
      " block5b_se_excite (Multipl  (None, 14, 14, 672)          0         ['block5b_activation[0][0]',  \n",
      " y)                                                                  'block5b_se_expand[0][0]']   \n",
      "                                                                                                  \n",
      " block5b_project_conv (Conv  (None, 14, 14, 112)          75264     ['block5b_se_excite[0][0]']   \n",
      " 2D)                                                                                              \n",
      "                                                                                                  \n",
      " block5b_project_bn (BatchN  (None, 14, 14, 112)          448       ['block5b_project_conv[0][0]']\n",
      " ormalization)                                                                                    \n",
      "                                                                                                  \n",
      " block5b_drop (Dropout)      (None, 14, 14, 112)          0         ['block5b_project_bn[0][0]']  \n",
      "                                                                                                  \n",
      " block5b_add (Add)           (None, 14, 14, 112)          0         ['block5b_drop[0][0]',        \n",
      "                                                                     'block5a_project_bn[0][0]']  \n",
      "                                                                                                  \n",
      " block5c_expand_conv (Conv2  (None, 14, 14, 672)          75264     ['block5b_add[0][0]']         \n",
      " D)                                                                                               \n",
      "                                                                                                  \n",
      " block5c_expand_bn (BatchNo  (None, 14, 14, 672)          2688      ['block5c_expand_conv[0][0]'] \n",
      " rmalization)                                                                                     \n",
      "                                                                                                  \n",
      " block5c_expand_activation   (None, 14, 14, 672)          0         ['block5c_expand_bn[0][0]']   \n",
      " (Activation)                                                                                     \n",
      "                                                                                                  \n",
      " block5c_dwconv2 (Depthwise  (None, 14, 14, 672)          6048      ['block5c_expand_activation[0]\n",
      " Conv2D)                                                            [0]']                         \n",
      "                                                                                                  \n",
      " block5c_bn (BatchNormaliza  (None, 14, 14, 672)          2688      ['block5c_dwconv2[0][0]']     \n",
      " tion)                                                                                            \n",
      "                                                                                                  \n",
      " block5c_activation (Activa  (None, 14, 14, 672)          0         ['block5c_bn[0][0]']          \n",
      " tion)                                                                                            \n",
      "                                                                                                  \n",
      " block5c_se_squeeze (Global  (None, 672)                  0         ['block5c_activation[0][0]']  \n",
      " AveragePooling2D)                                                                                \n",
      "                                                                                                  \n",
      " block5c_se_reshape (Reshap  (None, 1, 1, 672)            0         ['block5c_se_squeeze[0][0]']  \n",
      " e)                                                                                               \n",
      "                                                                                                  \n",
      " block5c_se_reduce (Conv2D)  (None, 1, 1, 28)             18844     ['block5c_se_reshape[0][0]']  \n",
      "                                                                                                  \n",
      " block5c_se_expand (Conv2D)  (None, 1, 1, 672)            19488     ['block5c_se_reduce[0][0]']   \n",
      "                                                                                                  \n",
      " block5c_se_excite (Multipl  (None, 14, 14, 672)          0         ['block5c_activation[0][0]',  \n",
      " y)                                                                  'block5c_se_expand[0][0]']   \n",
      "                                                                                                  \n",
      " block5c_project_conv (Conv  (None, 14, 14, 112)          75264     ['block5c_se_excite[0][0]']   \n",
      " 2D)                                                                                              \n",
      "                                                                                                  \n",
      " block5c_project_bn (BatchN  (None, 14, 14, 112)          448       ['block5c_project_conv[0][0]']\n",
      " ormalization)                                                                                    \n",
      "                                                                                                  \n",
      " block5c_drop (Dropout)      (None, 14, 14, 112)          0         ['block5c_project_bn[0][0]']  \n",
      "                                                                                                  \n",
      " block5c_add (Add)           (None, 14, 14, 112)          0         ['block5c_drop[0][0]',        \n",
      "                                                                     'block5b_add[0][0]']         \n",
      "                                                                                                  \n",
      " block5d_expand_conv (Conv2  (None, 14, 14, 672)          75264     ['block5c_add[0][0]']         \n",
      " D)                                                                                               \n",
      "                                                                                                  \n",
      " block5d_expand_bn (BatchNo  (None, 14, 14, 672)          2688      ['block5d_expand_conv[0][0]'] \n",
      " rmalization)                                                                                     \n",
      "                                                                                                  \n",
      " block5d_expand_activation   (None, 14, 14, 672)          0         ['block5d_expand_bn[0][0]']   \n",
      " (Activation)                                                                                     \n",
      "                                                                                                  \n",
      " block5d_dwconv2 (Depthwise  (None, 14, 14, 672)          6048      ['block5d_expand_activation[0]\n",
      " Conv2D)                                                            [0]']                         \n",
      "                                                                                                  \n",
      " block5d_bn (BatchNormaliza  (None, 14, 14, 672)          2688      ['block5d_dwconv2[0][0]']     \n",
      " tion)                                                                                            \n",
      "                                                                                                  \n",
      " block5d_activation (Activa  (None, 14, 14, 672)          0         ['block5d_bn[0][0]']          \n",
      " tion)                                                                                            \n",
      "                                                                                                  \n",
      " block5d_se_squeeze (Global  (None, 672)                  0         ['block5d_activation[0][0]']  \n",
      " AveragePooling2D)                                                                                \n",
      "                                                                                                  \n",
      " block5d_se_reshape (Reshap  (None, 1, 1, 672)            0         ['block5d_se_squeeze[0][0]']  \n",
      " e)                                                                                               \n",
      "                                                                                                  \n",
      " block5d_se_reduce (Conv2D)  (None, 1, 1, 28)             18844     ['block5d_se_reshape[0][0]']  \n",
      "                                                                                                  \n",
      " block5d_se_expand (Conv2D)  (None, 1, 1, 672)            19488     ['block5d_se_reduce[0][0]']   \n",
      "                                                                                                  \n",
      " block5d_se_excite (Multipl  (None, 14, 14, 672)          0         ['block5d_activation[0][0]',  \n",
      " y)                                                                  'block5d_se_expand[0][0]']   \n",
      "                                                                                                  \n",
      " block5d_project_conv (Conv  (None, 14, 14, 112)          75264     ['block5d_se_excite[0][0]']   \n",
      " 2D)                                                                                              \n",
      "                                                                                                  \n",
      " block5d_project_bn (BatchN  (None, 14, 14, 112)          448       ['block5d_project_conv[0][0]']\n",
      " ormalization)                                                                                    \n",
      "                                                                                                  \n",
      " block5d_drop (Dropout)      (None, 14, 14, 112)          0         ['block5d_project_bn[0][0]']  \n",
      "                                                                                                  \n",
      " block5d_add (Add)           (None, 14, 14, 112)          0         ['block5d_drop[0][0]',        \n",
      "                                                                     'block5c_add[0][0]']         \n",
      "                                                                                                  \n",
      " block5e_expand_conv (Conv2  (None, 14, 14, 672)          75264     ['block5d_add[0][0]']         \n",
      " D)                                                                                               \n",
      "                                                                                                  \n",
      " block5e_expand_bn (BatchNo  (None, 14, 14, 672)          2688      ['block5e_expand_conv[0][0]'] \n",
      " rmalization)                                                                                     \n",
      "                                                                                                  \n",
      " block5e_expand_activation   (None, 14, 14, 672)          0         ['block5e_expand_bn[0][0]']   \n",
      " (Activation)                                                                                     \n",
      "                                                                                                  \n",
      " block5e_dwconv2 (Depthwise  (None, 14, 14, 672)          6048      ['block5e_expand_activation[0]\n",
      " Conv2D)                                                            [0]']                         \n",
      "                                                                                                  \n",
      " block5e_bn (BatchNormaliza  (None, 14, 14, 672)          2688      ['block5e_dwconv2[0][0]']     \n",
      " tion)                                                                                            \n",
      "                                                                                                  \n",
      " block5e_activation (Activa  (None, 14, 14, 672)          0         ['block5e_bn[0][0]']          \n",
      " tion)                                                                                            \n",
      "                                                                                                  \n",
      " block5e_se_squeeze (Global  (None, 672)                  0         ['block5e_activation[0][0]']  \n",
      " AveragePooling2D)                                                                                \n",
      "                                                                                                  \n",
      " block5e_se_reshape (Reshap  (None, 1, 1, 672)            0         ['block5e_se_squeeze[0][0]']  \n",
      " e)                                                                                               \n",
      "                                                                                                  \n",
      " block5e_se_reduce (Conv2D)  (None, 1, 1, 28)             18844     ['block5e_se_reshape[0][0]']  \n",
      "                                                                                                  \n",
      " block5e_se_expand (Conv2D)  (None, 1, 1, 672)            19488     ['block5e_se_reduce[0][0]']   \n",
      "                                                                                                  \n",
      " block5e_se_excite (Multipl  (None, 14, 14, 672)          0         ['block5e_activation[0][0]',  \n",
      " y)                                                                  'block5e_se_expand[0][0]']   \n",
      "                                                                                                  \n",
      " block5e_project_conv (Conv  (None, 14, 14, 112)          75264     ['block5e_se_excite[0][0]']   \n",
      " 2D)                                                                                              \n",
      "                                                                                                  \n",
      " block5e_project_bn (BatchN  (None, 14, 14, 112)          448       ['block5e_project_conv[0][0]']\n",
      " ormalization)                                                                                    \n",
      "                                                                                                  \n",
      " block5e_drop (Dropout)      (None, 14, 14, 112)          0         ['block5e_project_bn[0][0]']  \n",
      "                                                                                                  \n",
      " block5e_add (Add)           (None, 14, 14, 112)          0         ['block5e_drop[0][0]',        \n",
      "                                                                     'block5d_add[0][0]']         \n",
      "                                                                                                  \n",
      " block6a_expand_conv (Conv2  (None, 14, 14, 672)          75264     ['block5e_add[0][0]']         \n",
      " D)                                                                                               \n",
      "                                                                                                  \n",
      " block6a_expand_bn (BatchNo  (None, 14, 14, 672)          2688      ['block6a_expand_conv[0][0]'] \n",
      " rmalization)                                                                                     \n",
      "                                                                                                  \n",
      " block6a_expand_activation   (None, 14, 14, 672)          0         ['block6a_expand_bn[0][0]']   \n",
      " (Activation)                                                                                     \n",
      "                                                                                                  \n",
      " block6a_dwconv2 (Depthwise  (None, 7, 7, 672)            6048      ['block6a_expand_activation[0]\n",
      " Conv2D)                                                            [0]']                         \n",
      "                                                                                                  \n",
      " block6a_bn (BatchNormaliza  (None, 7, 7, 672)            2688      ['block6a_dwconv2[0][0]']     \n",
      " tion)                                                                                            \n",
      "                                                                                                  \n",
      " block6a_activation (Activa  (None, 7, 7, 672)            0         ['block6a_bn[0][0]']          \n",
      " tion)                                                                                            \n",
      "                                                                                                  \n",
      " block6a_se_squeeze (Global  (None, 672)                  0         ['block6a_activation[0][0]']  \n",
      " AveragePooling2D)                                                                                \n",
      "                                                                                                  \n",
      " block6a_se_reshape (Reshap  (None, 1, 1, 672)            0         ['block6a_se_squeeze[0][0]']  \n",
      " e)                                                                                               \n",
      "                                                                                                  \n",
      " block6a_se_reduce (Conv2D)  (None, 1, 1, 28)             18844     ['block6a_se_reshape[0][0]']  \n",
      "                                                                                                  \n",
      " block6a_se_expand (Conv2D)  (None, 1, 1, 672)            19488     ['block6a_se_reduce[0][0]']   \n",
      "                                                                                                  \n",
      " block6a_se_excite (Multipl  (None, 7, 7, 672)            0         ['block6a_activation[0][0]',  \n",
      " y)                                                                  'block6a_se_expand[0][0]']   \n",
      "                                                                                                  \n",
      " block6a_project_conv (Conv  (None, 7, 7, 192)            129024    ['block6a_se_excite[0][0]']   \n",
      " 2D)                                                                                              \n",
      "                                                                                                  \n",
      " block6a_project_bn (BatchN  (None, 7, 7, 192)            768       ['block6a_project_conv[0][0]']\n",
      " ormalization)                                                                                    \n",
      "                                                                                                  \n",
      " block6b_expand_conv (Conv2  (None, 7, 7, 1152)           221184    ['block6a_project_bn[0][0]']  \n",
      " D)                                                                                               \n",
      "                                                                                                  \n",
      " block6b_expand_bn (BatchNo  (None, 7, 7, 1152)           4608      ['block6b_expand_conv[0][0]'] \n",
      " rmalization)                                                                                     \n",
      "                                                                                                  \n",
      " block6b_expand_activation   (None, 7, 7, 1152)           0         ['block6b_expand_bn[0][0]']   \n",
      " (Activation)                                                                                     \n",
      "                                                                                                  \n",
      " block6b_dwconv2 (Depthwise  (None, 7, 7, 1152)           10368     ['block6b_expand_activation[0]\n",
      " Conv2D)                                                            [0]']                         \n",
      "                                                                                                  \n",
      " block6b_bn (BatchNormaliza  (None, 7, 7, 1152)           4608      ['block6b_dwconv2[0][0]']     \n",
      " tion)                                                                                            \n",
      "                                                                                                  \n",
      " block6b_activation (Activa  (None, 7, 7, 1152)           0         ['block6b_bn[0][0]']          \n",
      " tion)                                                                                            \n",
      "                                                                                                  \n",
      " block6b_se_squeeze (Global  (None, 1152)                 0         ['block6b_activation[0][0]']  \n",
      " AveragePooling2D)                                                                                \n",
      "                                                                                                  \n",
      " block6b_se_reshape (Reshap  (None, 1, 1, 1152)           0         ['block6b_se_squeeze[0][0]']  \n",
      " e)                                                                                               \n",
      "                                                                                                  \n",
      " block6b_se_reduce (Conv2D)  (None, 1, 1, 48)             55344     ['block6b_se_reshape[0][0]']  \n",
      "                                                                                                  \n",
      " block6b_se_expand (Conv2D)  (None, 1, 1, 1152)           56448     ['block6b_se_reduce[0][0]']   \n",
      "                                                                                                  \n",
      " block6b_se_excite (Multipl  (None, 7, 7, 1152)           0         ['block6b_activation[0][0]',  \n",
      " y)                                                                  'block6b_se_expand[0][0]']   \n",
      "                                                                                                  \n",
      " block6b_project_conv (Conv  (None, 7, 7, 192)            221184    ['block6b_se_excite[0][0]']   \n",
      " 2D)                                                                                              \n",
      "                                                                                                  \n",
      " block6b_project_bn (BatchN  (None, 7, 7, 192)            768       ['block6b_project_conv[0][0]']\n",
      " ormalization)                                                                                    \n",
      "                                                                                                  \n",
      " block6b_drop (Dropout)      (None, 7, 7, 192)            0         ['block6b_project_bn[0][0]']  \n",
      "                                                                                                  \n",
      " block6b_add (Add)           (None, 7, 7, 192)            0         ['block6b_drop[0][0]',        \n",
      "                                                                     'block6a_project_bn[0][0]']  \n",
      "                                                                                                  \n",
      " block6c_expand_conv (Conv2  (None, 7, 7, 1152)           221184    ['block6b_add[0][0]']         \n",
      " D)                                                                                               \n",
      "                                                                                                  \n",
      " block6c_expand_bn (BatchNo  (None, 7, 7, 1152)           4608      ['block6c_expand_conv[0][0]'] \n",
      " rmalization)                                                                                     \n",
      "                                                                                                  \n",
      " block6c_expand_activation   (None, 7, 7, 1152)           0         ['block6c_expand_bn[0][0]']   \n",
      " (Activation)                                                                                     \n",
      "                                                                                                  \n",
      " block6c_dwconv2 (Depthwise  (None, 7, 7, 1152)           10368     ['block6c_expand_activation[0]\n",
      " Conv2D)                                                            [0]']                         \n",
      "                                                                                                  \n",
      " block6c_bn (BatchNormaliza  (None, 7, 7, 1152)           4608      ['block6c_dwconv2[0][0]']     \n",
      " tion)                                                                                            \n",
      "                                                                                                  \n",
      " block6c_activation (Activa  (None, 7, 7, 1152)           0         ['block6c_bn[0][0]']          \n",
      " tion)                                                                                            \n",
      "                                                                                                  \n",
      " block6c_se_squeeze (Global  (None, 1152)                 0         ['block6c_activation[0][0]']  \n",
      " AveragePooling2D)                                                                                \n",
      "                                                                                                  \n",
      " block6c_se_reshape (Reshap  (None, 1, 1, 1152)           0         ['block6c_se_squeeze[0][0]']  \n",
      " e)                                                                                               \n",
      "                                                                                                  \n",
      " block6c_se_reduce (Conv2D)  (None, 1, 1, 48)             55344     ['block6c_se_reshape[0][0]']  \n",
      "                                                                                                  \n",
      " block6c_se_expand (Conv2D)  (None, 1, 1, 1152)           56448     ['block6c_se_reduce[0][0]']   \n",
      "                                                                                                  \n",
      " block6c_se_excite (Multipl  (None, 7, 7, 1152)           0         ['block6c_activation[0][0]',  \n",
      " y)                                                                  'block6c_se_expand[0][0]']   \n",
      "                                                                                                  \n",
      " block6c_project_conv (Conv  (None, 7, 7, 192)            221184    ['block6c_se_excite[0][0]']   \n",
      " 2D)                                                                                              \n",
      "                                                                                                  \n",
      " block6c_project_bn (BatchN  (None, 7, 7, 192)            768       ['block6c_project_conv[0][0]']\n",
      " ormalization)                                                                                    \n",
      "                                                                                                  \n",
      " block6c_drop (Dropout)      (None, 7, 7, 192)            0         ['block6c_project_bn[0][0]']  \n",
      "                                                                                                  \n",
      " block6c_add (Add)           (None, 7, 7, 192)            0         ['block6c_drop[0][0]',        \n",
      "                                                                     'block6b_add[0][0]']         \n",
      "                                                                                                  \n",
      " block6d_expand_conv (Conv2  (None, 7, 7, 1152)           221184    ['block6c_add[0][0]']         \n",
      " D)                                                                                               \n",
      "                                                                                                  \n",
      " block6d_expand_bn (BatchNo  (None, 7, 7, 1152)           4608      ['block6d_expand_conv[0][0]'] \n",
      " rmalization)                                                                                     \n",
      "                                                                                                  \n",
      " block6d_expand_activation   (None, 7, 7, 1152)           0         ['block6d_expand_bn[0][0]']   \n",
      " (Activation)                                                                                     \n",
      "                                                                                                  \n",
      " block6d_dwconv2 (Depthwise  (None, 7, 7, 1152)           10368     ['block6d_expand_activation[0]\n",
      " Conv2D)                                                            [0]']                         \n",
      "                                                                                                  \n",
      " block6d_bn (BatchNormaliza  (None, 7, 7, 1152)           4608      ['block6d_dwconv2[0][0]']     \n",
      " tion)                                                                                            \n",
      "                                                                                                  \n",
      " block6d_activation (Activa  (None, 7, 7, 1152)           0         ['block6d_bn[0][0]']          \n",
      " tion)                                                                                            \n",
      "                                                                                                  \n",
      " block6d_se_squeeze (Global  (None, 1152)                 0         ['block6d_activation[0][0]']  \n",
      " AveragePooling2D)                                                                                \n",
      "                                                                                                  \n",
      " block6d_se_reshape (Reshap  (None, 1, 1, 1152)           0         ['block6d_se_squeeze[0][0]']  \n",
      " e)                                                                                               \n",
      "                                                                                                  \n",
      " block6d_se_reduce (Conv2D)  (None, 1, 1, 48)             55344     ['block6d_se_reshape[0][0]']  \n",
      "                                                                                                  \n",
      " block6d_se_expand (Conv2D)  (None, 1, 1, 1152)           56448     ['block6d_se_reduce[0][0]']   \n",
      "                                                                                                  \n",
      " block6d_se_excite (Multipl  (None, 7, 7, 1152)           0         ['block6d_activation[0][0]',  \n",
      " y)                                                                  'block6d_se_expand[0][0]']   \n",
      "                                                                                                  \n",
      " block6d_project_conv (Conv  (None, 7, 7, 192)            221184    ['block6d_se_excite[0][0]']   \n",
      " 2D)                                                                                              \n",
      "                                                                                                  \n",
      " block6d_project_bn (BatchN  (None, 7, 7, 192)            768       ['block6d_project_conv[0][0]']\n",
      " ormalization)                                                                                    \n",
      "                                                                                                  \n",
      " block6d_drop (Dropout)      (None, 7, 7, 192)            0         ['block6d_project_bn[0][0]']  \n",
      "                                                                                                  \n",
      " block6d_add (Add)           (None, 7, 7, 192)            0         ['block6d_drop[0][0]',        \n",
      "                                                                     'block6c_add[0][0]']         \n",
      "                                                                                                  \n",
      " block6e_expand_conv (Conv2  (None, 7, 7, 1152)           221184    ['block6d_add[0][0]']         \n",
      " D)                                                                                               \n",
      "                                                                                                  \n",
      " block6e_expand_bn (BatchNo  (None, 7, 7, 1152)           4608      ['block6e_expand_conv[0][0]'] \n",
      " rmalization)                                                                                     \n",
      "                                                                                                  \n",
      " block6e_expand_activation   (None, 7, 7, 1152)           0         ['block6e_expand_bn[0][0]']   \n",
      " (Activation)                                                                                     \n",
      "                                                                                                  \n",
      " block6e_dwconv2 (Depthwise  (None, 7, 7, 1152)           10368     ['block6e_expand_activation[0]\n",
      " Conv2D)                                                            [0]']                         \n",
      "                                                                                                  \n",
      " block6e_bn (BatchNormaliza  (None, 7, 7, 1152)           4608      ['block6e_dwconv2[0][0]']     \n",
      " tion)                                                                                            \n",
      "                                                                                                  \n",
      " block6e_activation (Activa  (None, 7, 7, 1152)           0         ['block6e_bn[0][0]']          \n",
      " tion)                                                                                            \n",
      "                                                                                                  \n",
      " block6e_se_squeeze (Global  (None, 1152)                 0         ['block6e_activation[0][0]']  \n",
      " AveragePooling2D)                                                                                \n",
      "                                                                                                  \n",
      " block6e_se_reshape (Reshap  (None, 1, 1, 1152)           0         ['block6e_se_squeeze[0][0]']  \n",
      " e)                                                                                               \n",
      "                                                                                                  \n",
      " block6e_se_reduce (Conv2D)  (None, 1, 1, 48)             55344     ['block6e_se_reshape[0][0]']  \n",
      "                                                                                                  \n",
      " block6e_se_expand (Conv2D)  (None, 1, 1, 1152)           56448     ['block6e_se_reduce[0][0]']   \n",
      "                                                                                                  \n",
      " block6e_se_excite (Multipl  (None, 7, 7, 1152)           0         ['block6e_activation[0][0]',  \n",
      " y)                                                                  'block6e_se_expand[0][0]']   \n",
      "                                                                                                  \n",
      " block6e_project_conv (Conv  (None, 7, 7, 192)            221184    ['block6e_se_excite[0][0]']   \n",
      " 2D)                                                                                              \n",
      "                                                                                                  \n",
      " block6e_project_bn (BatchN  (None, 7, 7, 192)            768       ['block6e_project_conv[0][0]']\n",
      " ormalization)                                                                                    \n",
      "                                                                                                  \n",
      " block6e_drop (Dropout)      (None, 7, 7, 192)            0         ['block6e_project_bn[0][0]']  \n",
      "                                                                                                  \n",
      " block6e_add (Add)           (None, 7, 7, 192)            0         ['block6e_drop[0][0]',        \n",
      "                                                                     'block6d_add[0][0]']         \n",
      "                                                                                                  \n",
      " block6f_expand_conv (Conv2  (None, 7, 7, 1152)           221184    ['block6e_add[0][0]']         \n",
      " D)                                                                                               \n",
      "                                                                                                  \n",
      " block6f_expand_bn (BatchNo  (None, 7, 7, 1152)           4608      ['block6f_expand_conv[0][0]'] \n",
      " rmalization)                                                                                     \n",
      "                                                                                                  \n",
      " block6f_expand_activation   (None, 7, 7, 1152)           0         ['block6f_expand_bn[0][0]']   \n",
      " (Activation)                                                                                     \n",
      "                                                                                                  \n",
      " block6f_dwconv2 (Depthwise  (None, 7, 7, 1152)           10368     ['block6f_expand_activation[0]\n",
      " Conv2D)                                                            [0]']                         \n",
      "                                                                                                  \n",
      " block6f_bn (BatchNormaliza  (None, 7, 7, 1152)           4608      ['block6f_dwconv2[0][0]']     \n",
      " tion)                                                                                            \n",
      "                                                                                                  \n",
      " block6f_activation (Activa  (None, 7, 7, 1152)           0         ['block6f_bn[0][0]']          \n",
      " tion)                                                                                            \n",
      "                                                                                                  \n",
      " block6f_se_squeeze (Global  (None, 1152)                 0         ['block6f_activation[0][0]']  \n",
      " AveragePooling2D)                                                                                \n",
      "                                                                                                  \n",
      " block6f_se_reshape (Reshap  (None, 1, 1, 1152)           0         ['block6f_se_squeeze[0][0]']  \n",
      " e)                                                                                               \n",
      "                                                                                                  \n",
      " block6f_se_reduce (Conv2D)  (None, 1, 1, 48)             55344     ['block6f_se_reshape[0][0]']  \n",
      "                                                                                                  \n",
      " block6f_se_expand (Conv2D)  (None, 1, 1, 1152)           56448     ['block6f_se_reduce[0][0]']   \n",
      "                                                                                                  \n",
      " block6f_se_excite (Multipl  (None, 7, 7, 1152)           0         ['block6f_activation[0][0]',  \n",
      " y)                                                                  'block6f_se_expand[0][0]']   \n",
      "                                                                                                  \n",
      " block6f_project_conv (Conv  (None, 7, 7, 192)            221184    ['block6f_se_excite[0][0]']   \n",
      " 2D)                                                                                              \n",
      "                                                                                                  \n",
      " block6f_project_bn (BatchN  (None, 7, 7, 192)            768       ['block6f_project_conv[0][0]']\n",
      " ormalization)                                                                                    \n",
      "                                                                                                  \n",
      " block6f_drop (Dropout)      (None, 7, 7, 192)            0         ['block6f_project_bn[0][0]']  \n",
      "                                                                                                  \n",
      " block6f_add (Add)           (None, 7, 7, 192)            0         ['block6f_drop[0][0]',        \n",
      "                                                                     'block6e_add[0][0]']         \n",
      "                                                                                                  \n",
      " block6g_expand_conv (Conv2  (None, 7, 7, 1152)           221184    ['block6f_add[0][0]']         \n",
      " D)                                                                                               \n",
      "                                                                                                  \n",
      " block6g_expand_bn (BatchNo  (None, 7, 7, 1152)           4608      ['block6g_expand_conv[0][0]'] \n",
      " rmalization)                                                                                     \n",
      "                                                                                                  \n",
      " block6g_expand_activation   (None, 7, 7, 1152)           0         ['block6g_expand_bn[0][0]']   \n",
      " (Activation)                                                                                     \n",
      "                                                                                                  \n",
      " block6g_dwconv2 (Depthwise  (None, 7, 7, 1152)           10368     ['block6g_expand_activation[0]\n",
      " Conv2D)                                                            [0]']                         \n",
      "                                                                                                  \n",
      " block6g_bn (BatchNormaliza  (None, 7, 7, 1152)           4608      ['block6g_dwconv2[0][0]']     \n",
      " tion)                                                                                            \n",
      "                                                                                                  \n",
      " block6g_activation (Activa  (None, 7, 7, 1152)           0         ['block6g_bn[0][0]']          \n",
      " tion)                                                                                            \n",
      "                                                                                                  \n",
      " block6g_se_squeeze (Global  (None, 1152)                 0         ['block6g_activation[0][0]']  \n",
      " AveragePooling2D)                                                                                \n",
      "                                                                                                  \n",
      " block6g_se_reshape (Reshap  (None, 1, 1, 1152)           0         ['block6g_se_squeeze[0][0]']  \n",
      " e)                                                                                               \n",
      "                                                                                                  \n",
      " block6g_se_reduce (Conv2D)  (None, 1, 1, 48)             55344     ['block6g_se_reshape[0][0]']  \n",
      "                                                                                                  \n",
      " block6g_se_expand (Conv2D)  (None, 1, 1, 1152)           56448     ['block6g_se_reduce[0][0]']   \n",
      "                                                                                                  \n",
      " block6g_se_excite (Multipl  (None, 7, 7, 1152)           0         ['block6g_activation[0][0]',  \n",
      " y)                                                                  'block6g_se_expand[0][0]']   \n",
      "                                                                                                  \n",
      " block6g_project_conv (Conv  (None, 7, 7, 192)            221184    ['block6g_se_excite[0][0]']   \n",
      " 2D)                                                                                              \n",
      "                                                                                                  \n",
      " block6g_project_bn (BatchN  (None, 7, 7, 192)            768       ['block6g_project_conv[0][0]']\n",
      " ormalization)                                                                                    \n",
      "                                                                                                  \n",
      " block6g_drop (Dropout)      (None, 7, 7, 192)            0         ['block6g_project_bn[0][0]']  \n",
      "                                                                                                  \n",
      " block6g_add (Add)           (None, 7, 7, 192)            0         ['block6g_drop[0][0]',        \n",
      "                                                                     'block6f_add[0][0]']         \n",
      "                                                                                                  \n",
      " block6h_expand_conv (Conv2  (None, 7, 7, 1152)           221184    ['block6g_add[0][0]']         \n",
      " D)                                                                                               \n",
      "                                                                                                  \n",
      " block6h_expand_bn (BatchNo  (None, 7, 7, 1152)           4608      ['block6h_expand_conv[0][0]'] \n",
      " rmalization)                                                                                     \n",
      "                                                                                                  \n",
      " block6h_expand_activation   (None, 7, 7, 1152)           0         ['block6h_expand_bn[0][0]']   \n",
      " (Activation)                                                                                     \n",
      "                                                                                                  \n",
      " block6h_dwconv2 (Depthwise  (None, 7, 7, 1152)           10368     ['block6h_expand_activation[0]\n",
      " Conv2D)                                                            [0]']                         \n",
      "                                                                                                  \n",
      " block6h_bn (BatchNormaliza  (None, 7, 7, 1152)           4608      ['block6h_dwconv2[0][0]']     \n",
      " tion)                                                                                            \n",
      "                                                                                                  \n",
      " block6h_activation (Activa  (None, 7, 7, 1152)           0         ['block6h_bn[0][0]']          \n",
      " tion)                                                                                            \n",
      "                                                                                                  \n",
      " block6h_se_squeeze (Global  (None, 1152)                 0         ['block6h_activation[0][0]']  \n",
      " AveragePooling2D)                                                                                \n",
      "                                                                                                  \n",
      " block6h_se_reshape (Reshap  (None, 1, 1, 1152)           0         ['block6h_se_squeeze[0][0]']  \n",
      " e)                                                                                               \n",
      "                                                                                                  \n",
      " block6h_se_reduce (Conv2D)  (None, 1, 1, 48)             55344     ['block6h_se_reshape[0][0]']  \n",
      "                                                                                                  \n",
      " block6h_se_expand (Conv2D)  (None, 1, 1, 1152)           56448     ['block6h_se_reduce[0][0]']   \n",
      "                                                                                                  \n",
      " block6h_se_excite (Multipl  (None, 7, 7, 1152)           0         ['block6h_activation[0][0]',  \n",
      " y)                                                                  'block6h_se_expand[0][0]']   \n",
      "                                                                                                  \n",
      " block6h_project_conv (Conv  (None, 7, 7, 192)            221184    ['block6h_se_excite[0][0]']   \n",
      " 2D)                                                                                              \n",
      "                                                                                                  \n",
      " block6h_project_bn (BatchN  (None, 7, 7, 192)            768       ['block6h_project_conv[0][0]']\n",
      " ormalization)                                                                                    \n",
      "                                                                                                  \n",
      " block6h_drop (Dropout)      (None, 7, 7, 192)            0         ['block6h_project_bn[0][0]']  \n",
      "                                                                                                  \n",
      " block6h_add (Add)           (None, 7, 7, 192)            0         ['block6h_drop[0][0]',        \n",
      "                                                                     'block6g_add[0][0]']         \n",
      "                                                                                                  \n",
      " top_conv (Conv2D)           (None, 7, 7, 1280)           245760    ['block6h_add[0][0]']         \n",
      "                                                                                                  \n",
      " top_bn (BatchNormalization  (None, 7, 7, 1280)           5120      ['top_conv[0][0]']            \n",
      " )                                                                                                \n",
      "                                                                                                  \n",
      " top_activation (Activation  (None, 7, 7, 1280)           0         ['top_bn[0][0]']              \n",
      " )                                                                                                \n",
      "                                                                                                  \n",
      " avg_pool (GlobalAveragePoo  (None, 1280)                 0         ['top_activation[0][0]']      \n",
      " ling2D)                                                                                          \n",
      "                                                                                                  \n",
      "==================================================================================================\n",
      "Total params: 5919312 (22.58 MB)\n",
      "Trainable params: 0 (0.00 Byte)\n",
      "Non-trainable params: 5919312 (22.58 MB)\n",
      "__________________________________________________________________________________________________\n"
     ]
    }
   ],
   "source": [
    "# Create the base model from the pre-trained model EfficientNet V2\n",
    "input_shape = CFG.image_size + (3,)\n",
    "base_model = tf.keras.applications.EfficientNetV2B0(input_shape=input_shape,\n",
    "                                                    include_top=False,\n",
    "                                                    pooling=\"avg\",\n",
    "                                                    weights='imagenet')\n",
    "base_model.trainable = False\n",
    "\n",
    "# Let's take a look at the base model architecture\n",
    "base_model.summary()"
   ]
  },
  {
   "cell_type": "code",
   "execution_count": 33,
   "id": "1c649eb9",
   "metadata": {
    "execution": {
     "iopub.execute_input": "2024-05-24T00:54:46.025472Z",
     "iopub.status.busy": "2024-05-24T00:54:46.024853Z",
     "iopub.status.idle": "2024-05-24T00:54:46.030143Z",
     "shell.execute_reply": "2024-05-24T00:54:46.029298Z"
    },
    "papermill": {
     "duration": 0.02521,
     "end_time": "2024-05-24T00:54:46.031984",
     "exception": false,
     "start_time": "2024-05-24T00:54:46.006774",
     "status": "completed"
    },
    "tags": []
   },
   "outputs": [],
   "source": [
    "prediction_layer = tf.keras.layers.Dense(1, activation='sigmoid')"
   ]
  },
  {
   "cell_type": "markdown",
   "id": "7c06f3ea",
   "metadata": {
    "papermill": {
     "duration": 0.01589,
     "end_time": "2024-05-24T00:54:46.063990",
     "exception": false,
     "start_time": "2024-05-24T00:54:46.048100",
     "status": "completed"
    },
    "tags": []
   },
   "source": [
    "# Create Model"
   ]
  },
  {
   "cell_type": "code",
   "execution_count": 34,
   "id": "67fc820c",
   "metadata": {
    "execution": {
     "iopub.execute_input": "2024-05-24T00:54:46.097476Z",
     "iopub.status.busy": "2024-05-24T00:54:46.097205Z",
     "iopub.status.idle": "2024-05-24T00:54:46.142459Z",
     "shell.execute_reply": "2024-05-24T00:54:46.141758Z"
    },
    "papermill": {
     "duration": 0.064273,
     "end_time": "2024-05-24T00:54:46.144349",
     "exception": false,
     "start_time": "2024-05-24T00:54:46.080076",
     "status": "completed"
    },
    "tags": []
   },
   "outputs": [],
   "source": [
    "# Create the model\n",
    "inputs = tf.keras.Input(shape=input_shape)\n",
    "x = preprocess_input(inputs)\n",
    "x = base_model(x, training=False)\n",
    "x = tf.keras.layers.Dropout(0.4)(x)\n",
    "x = tf.keras.layers.Dense(2048, activation=\"selu\")(x)\n",
    "x = tf.keras.layers.Dropout(0.4)(x)\n",
    "x = tf.keras.layers.Dense(1024, activation=\"selu\")(x)\n",
    "outputs = prediction_layer(x)\n",
    "model = tf.keras.Model(inputs, outputs)"
   ]
  },
  {
   "cell_type": "markdown",
   "id": "a343d871",
   "metadata": {
    "papermill": {
     "duration": 0.016069,
     "end_time": "2024-05-24T00:54:46.177210",
     "exception": false,
     "start_time": "2024-05-24T00:54:46.161141",
     "status": "completed"
    },
    "tags": []
   },
   "source": [
    "# Compile model"
   ]
  },
  {
   "cell_type": "code",
   "execution_count": 35,
   "id": "4ad7fb34",
   "metadata": {
    "execution": {
     "iopub.execute_input": "2024-05-24T00:54:46.211048Z",
     "iopub.status.busy": "2024-05-24T00:54:46.210726Z",
     "iopub.status.idle": "2024-05-24T00:54:46.252465Z",
     "shell.execute_reply": "2024-05-24T00:54:46.251605Z"
    },
    "papermill": {
     "duration": 0.060981,
     "end_time": "2024-05-24T00:54:46.254332",
     "exception": false,
     "start_time": "2024-05-24T00:54:46.193351",
     "status": "completed"
    },
    "tags": []
   },
   "outputs": [
    {
     "name": "stdout",
     "output_type": "stream",
     "text": [
      "Model: \"model_1\"\n",
      "_________________________________________________________________\n",
      " Layer (type)                Output Shape              Param #   \n",
      "=================================================================\n",
      " input_4 (InputLayer)        [(None, 224, 224, 3)]     0         \n",
      "                                                                 \n",
      " efficientnetv2-b0 (Functio  (None, 1280)              5919312   \n",
      " nal)                                                            \n",
      "                                                                 \n",
      " dropout_2 (Dropout)         (None, 1280)              0         \n",
      "                                                                 \n",
      " dense_4 (Dense)             (None, 2048)              2623488   \n",
      "                                                                 \n",
      " dropout_3 (Dropout)         (None, 2048)              0         \n",
      "                                                                 \n",
      " dense_5 (Dense)             (None, 1024)              2098176   \n",
      "                                                                 \n",
      " dense_3 (Dense)             (None, 1)                 1025      \n",
      "                                                                 \n",
      "=================================================================\n",
      "Total params: 10642001 (40.60 MB)\n",
      "Trainable params: 4722689 (18.02 MB)\n",
      "Non-trainable params: 5919312 (22.58 MB)\n",
      "_________________________________________________________________\n"
     ]
    }
   ],
   "source": [
    "base_learning_rate = 0.001\n",
    "model.compile(optimizer=tf.keras.optimizers.Adam(learning_rate=base_learning_rate),\n",
    "              loss=tf.keras.losses.BinaryCrossentropy(),\n",
    "              metrics=[tf.keras.metrics.BinaryAccuracy(threshold=0.5, name='accuracy')])\n",
    "\n",
    "# Print model summary\n",
    "model.summary()"
   ]
  },
  {
   "cell_type": "markdown",
   "id": "95fb295c",
   "metadata": {
    "papermill": {
     "duration": 0.017104,
     "end_time": "2024-05-24T00:54:46.288567",
     "exception": false,
     "start_time": "2024-05-24T00:54:46.271463",
     "status": "completed"
    },
    "tags": []
   },
   "source": [
    "# Train model"
   ]
  },
  {
   "cell_type": "code",
   "execution_count": 36,
   "id": "03f698f0",
   "metadata": {
    "execution": {
     "iopub.execute_input": "2024-05-24T00:54:46.323871Z",
     "iopub.status.busy": "2024-05-24T00:54:46.323587Z",
     "iopub.status.idle": "2024-05-24T01:49:15.518746Z",
     "shell.execute_reply": "2024-05-24T01:49:15.517930Z"
    },
    "papermill": {
     "duration": 3269.215431,
     "end_time": "2024-05-24T01:49:15.521076",
     "exception": false,
     "start_time": "2024-05-24T00:54:46.305645",
     "status": "completed"
    },
    "tags": []
   },
   "outputs": [
    {
     "name": "stdout",
     "output_type": "stream",
     "text": [
      "Epoch 1/50\n",
      "159/159 [==============================] - 328s 2s/step - loss: 0.7207 - accuracy: 0.7256 - val_loss: 0.4595 - val_accuracy: 0.7781\n",
      "Epoch 2/50\n",
      "159/159 [==============================] - 462s 3s/step - loss: 0.4670 - accuracy: 0.7697 - val_loss: 0.4772 - val_accuracy: 0.7580\n",
      "Epoch 3/50\n",
      "159/159 [==============================] - 460s 3s/step - loss: 0.4573 - accuracy: 0.7754 - val_loss: 0.4289 - val_accuracy: 0.7898\n",
      "Epoch 4/50\n",
      "159/159 [==============================] - 459s 3s/step - loss: 0.4410 - accuracy: 0.7851 - val_loss: 0.4609 - val_accuracy: 0.7718\n",
      "Epoch 5/50\n",
      "159/159 [==============================] - 453s 3s/step - loss: 0.4361 - accuracy: 0.7899 - val_loss: 0.4621 - val_accuracy: 0.7659\n",
      "Epoch 6/50\n",
      "159/159 [==============================] - 454s 3s/step - loss: 0.4345 - accuracy: 0.7862 - val_loss: 0.4188 - val_accuracy: 0.8038\n",
      "Epoch 7/50\n",
      "159/159 [==============================] - 452s 3s/step - loss: 0.4236 - accuracy: 0.7964 - val_loss: 0.4127 - val_accuracy: 0.8042\n",
      "Epoch 8/50\n",
      "159/159 [==============================] - 451s 3s/step - loss: 0.4177 - accuracy: 0.7976 - val_loss: 0.4203 - val_accuracy: 0.8028\n",
      "Epoch 9/50\n",
      "159/159 [==============================] - 452s 3s/step - loss: 0.4186 - accuracy: 0.7991 - val_loss: 0.4169 - val_accuracy: 0.8056\n",
      "Epoch 10/50\n",
      "159/159 [==============================] - 453s 3s/step - loss: 0.4153 - accuracy: 0.7987 - val_loss: 0.4099 - val_accuracy: 0.8105\n",
      "Epoch 11/50\n",
      "159/159 [==============================] - 453s 3s/step - loss: 0.4112 - accuracy: 0.8048 - val_loss: 0.4126 - val_accuracy: 0.8050\n",
      "Epoch 12/50\n",
      "159/159 [==============================] - 455s 3s/step - loss: 0.4019 - accuracy: 0.8127 - val_loss: 0.4092 - val_accuracy: 0.8062\n",
      "Epoch 13/50\n",
      "159/159 [==============================] - 453s 3s/step - loss: 0.4002 - accuracy: 0.8110 - val_loss: 0.4346 - val_accuracy: 0.8071\n",
      "Epoch 14/50\n",
      "159/159 [==============================] - 453s 3s/step - loss: 0.3922 - accuracy: 0.8135 - val_loss: 0.4278 - val_accuracy: 0.8068\n",
      "Epoch 15/50\n",
      "159/159 [==============================] - 454s 3s/step - loss: 0.3908 - accuracy: 0.8160 - val_loss: 0.4162 - val_accuracy: 0.8085\n",
      "Epoch 16/50\n",
      "159/159 [==============================] - 453s 3s/step - loss: 0.3935 - accuracy: 0.8106 - val_loss: 0.4869 - val_accuracy: 0.7667\n",
      "Epoch 17/50\n",
      "159/159 [==============================] - 454s 3s/step - loss: 0.3915 - accuracy: 0.8162 - val_loss: 0.4159 - val_accuracy: 0.8101\n",
      "Epoch 18/50\n",
      "159/159 [==============================] - 453s 3s/step - loss: 0.3779 - accuracy: 0.8191 - val_loss: 0.4064 - val_accuracy: 0.8188\n",
      "Epoch 19/50\n",
      "159/159 [==============================] - 455s 3s/step - loss: 0.3720 - accuracy: 0.8262 - val_loss: 0.4089 - val_accuracy: 0.8196\n",
      "Epoch 20/50\n",
      "159/159 [==============================] - 457s 3s/step - loss: 0.3748 - accuracy: 0.8266 - val_loss: 0.4209 - val_accuracy: 0.8060\n",
      "Epoch 21/50\n",
      "159/159 [==============================] - 453s 3s/step - loss: 0.3780 - accuracy: 0.8231 - val_loss: 0.4089 - val_accuracy: 0.8152\n",
      "Epoch 22/50\n",
      "159/159 [==============================] - 452s 3s/step - loss: 0.3641 - accuracy: 0.8296 - val_loss: 0.4328 - val_accuracy: 0.8016\n",
      "Epoch 23/50\n",
      "159/159 [==============================] - 454s 3s/step - loss: 0.3634 - accuracy: 0.8285 - val_loss: 0.3953 - val_accuracy: 0.8214\n",
      "Epoch 24/50\n",
      "159/159 [==============================] - 454s 3s/step - loss: 0.3617 - accuracy: 0.8296 - val_loss: 0.4060 - val_accuracy: 0.8279\n",
      "Epoch 25/50\n",
      "159/159 [==============================] - 452s 3s/step - loss: 0.3542 - accuracy: 0.8384 - val_loss: 0.4034 - val_accuracy: 0.8239\n",
      "Epoch 26/50\n",
      "159/159 [==============================] - 453s 3s/step - loss: 0.3528 - accuracy: 0.8345 - val_loss: 0.3960 - val_accuracy: 0.8239\n",
      "Epoch 27/50\n",
      "159/159 [==============================] - 454s 3s/step - loss: 0.3530 - accuracy: 0.8361 - val_loss: 0.4406 - val_accuracy: 0.8036\n",
      "Epoch 28/50\n",
      "159/159 [==============================] - 452s 3s/step - loss: 0.3474 - accuracy: 0.8365 - val_loss: 0.4317 - val_accuracy: 0.8091\n",
      "Epoch 29/50\n",
      "159/159 [==============================] - 451s 3s/step - loss: 0.3480 - accuracy: 0.8384 - val_loss: 0.4653 - val_accuracy: 0.7979\n",
      "Epoch 30/50\n",
      "159/159 [==============================] - 451s 3s/step - loss: 0.3400 - accuracy: 0.8412 - val_loss: 0.4199 - val_accuracy: 0.8293\n",
      "Epoch 31/50\n",
      "159/159 [==============================] - 426s 3s/step - loss: 0.3354 - accuracy: 0.8448 - val_loss: 0.4087 - val_accuracy: 0.8259\n",
      "Epoch 32/50\n",
      "159/159 [==============================] - 413s 3s/step - loss: 0.3281 - accuracy: 0.8495 - val_loss: 0.4029 - val_accuracy: 0.8200\n",
      "Epoch 33/50\n",
      "159/159 [==============================] - 456s 3s/step - loss: 0.3339 - accuracy: 0.8429 - val_loss: 0.4274 - val_accuracy: 0.8229\n",
      "Epoch 34/50\n",
      "159/159 [==============================] - 453s 3s/step - loss: 0.3274 - accuracy: 0.8477 - val_loss: 0.4120 - val_accuracy: 0.8249\n",
      "Epoch 35/50\n",
      "159/159 [==============================] - 454s 3s/step - loss: 0.3257 - accuracy: 0.8491 - val_loss: 0.4233 - val_accuracy: 0.8231\n",
      "Epoch 36/50\n",
      "159/159 [==============================] - 452s 3s/step - loss: 0.3303 - accuracy: 0.8477 - val_loss: 0.5053 - val_accuracy: 0.7894\n",
      "Epoch 37/50\n",
      "159/159 [==============================] - 454s 3s/step - loss: 0.3351 - accuracy: 0.8460 - val_loss: 0.4072 - val_accuracy: 0.8249\n",
      "Epoch 38/50\n",
      "159/159 [==============================] - 453s 3s/step - loss: 0.3215 - accuracy: 0.8491 - val_loss: 0.4124 - val_accuracy: 0.8291\n",
      "Epoch 39/50\n",
      "159/159 [==============================] - 452s 3s/step - loss: 0.3207 - accuracy: 0.8509 - val_loss: 0.4128 - val_accuracy: 0.8306\n",
      "Epoch 40/50\n",
      "159/159 [==============================] - 453s 3s/step - loss: 0.3128 - accuracy: 0.8583 - val_loss: 0.4143 - val_accuracy: 0.8243\n",
      "Epoch 41/50\n",
      "159/159 [==============================] - 452s 3s/step - loss: 0.3160 - accuracy: 0.8535 - val_loss: 0.4028 - val_accuracy: 0.8314\n",
      "Epoch 42/50\n",
      "159/159 [==============================] - 455s 3s/step - loss: 0.3005 - accuracy: 0.8643 - val_loss: 0.4370 - val_accuracy: 0.8214\n",
      "Epoch 43/50\n",
      "159/159 [==============================] - 453s 3s/step - loss: 0.3028 - accuracy: 0.8620 - val_loss: 0.4413 - val_accuracy: 0.7935\n",
      "Epoch 44/50\n",
      "159/159 [==============================] - 453s 3s/step - loss: 0.3006 - accuracy: 0.8637 - val_loss: 0.4208 - val_accuracy: 0.8214\n",
      "Epoch 45/50\n",
      "159/159 [==============================] - 455s 3s/step - loss: 0.3000 - accuracy: 0.8656 - val_loss: 0.4200 - val_accuracy: 0.8293\n",
      "Epoch 46/50\n",
      "159/159 [==============================] - 454s 3s/step - loss: 0.2902 - accuracy: 0.8662 - val_loss: 0.4257 - val_accuracy: 0.8279\n",
      "Epoch 47/50\n",
      "159/159 [==============================] - 451s 3s/step - loss: 0.2904 - accuracy: 0.8668 - val_loss: 0.4666 - val_accuracy: 0.8097\n",
      "Epoch 48/50\n",
      "159/159 [==============================] - 452s 3s/step - loss: 0.2911 - accuracy: 0.8685 - val_loss: 0.4952 - val_accuracy: 0.8093\n",
      "Epoch 49/50\n",
      "159/159 [==============================] - 455s 3s/step - loss: 0.2978 - accuracy: 0.8651 - val_loss: 0.4449 - val_accuracy: 0.8194\n",
      "Epoch 50/50\n",
      "159/159 [==============================] - 450s 3s/step - loss: 0.2804 - accuracy: 0.8770 - val_loss: 0.4316 - val_accuracy: 0.8283\n"
     ]
    }
   ],
   "source": [
    "initial_epochs = CFG.epochs\n",
    "\n",
    "history = model.fit(train_dataset,\n",
    "                    epochs=initial_epochs,\n",
    "                    validation_data=validation_dataset)"
   ]
  },
  {
   "cell_type": "markdown",
   "id": "f8375876",
   "metadata": {
    "papermill": {
     "duration": 0.687265,
     "end_time": "2024-05-24T01:49:16.949637",
     "exception": false,
     "start_time": "2024-05-24T01:49:16.262372",
     "status": "completed"
    },
    "tags": []
   },
   "source": [
    "# Plot Training"
   ]
  },
  {
   "cell_type": "code",
   "execution_count": 37,
   "id": "ca1070d5",
   "metadata": {
    "execution": {
     "iopub.execute_input": "2024-05-24T01:49:18.362569Z",
     "iopub.status.busy": "2024-05-24T01:49:18.362210Z",
     "iopub.status.idle": "2024-05-24T01:49:18.859139Z",
     "shell.execute_reply": "2024-05-24T01:49:18.858166Z"
    },
    "papermill": {
     "duration": 1.234997,
     "end_time": "2024-05-24T01:49:18.861673",
     "exception": false,
     "start_time": "2024-05-24T01:49:17.626676",
     "status": "completed"
    },
    "tags": []
   },
   "outputs": [
    {
     "data": {
      "image/png": "[encoded data removed]",
      "text/plain": [
       "<Figure size 800x800 with 2 Axes>"
      ]
     },
     "metadata": {},
     "output_type": "display_data"
    }
   ],
   "source": [
    "acc = history.history['accuracy']\n",
    "val_acc = history.history['val_accuracy']\n",
    "\n",
    "loss = history.history['loss']\n",
    "val_loss = history.history['val_loss']\n",
    "\n",
    "plt.figure(figsize=(8, 8))\n",
    "plt.subplot(2, 1, 1)\n",
    "plt.plot(acc, label='Training Accuracy')\n",
    "plt.plot(val_acc, label='Validation Accuracy')\n",
    "plt.legend(loc='lower right')\n",
    "plt.ylabel('Accuracy')\n",
    "plt.ylim([min(plt.ylim()),1])\n",
    "plt.title('Training and Validation Accuracy')\n",
    "\n",
    "plt.subplot(2, 1, 2)\n",
    "plt.plot(loss, label='Training Loss')\n",
    "plt.plot(val_loss, label='Validation Loss')\n",
    "plt.legend(loc='upper right')\n",
    "plt.ylabel('Cross Entropy')\n",
    "plt.ylim([0,1.0])\n",
    "plt.title('Training and Validation Loss')\n",
    "plt.xlabel('epoch')\n",
    "plt.show()"
   ]
  },
  {
   "cell_type": "code",
   "execution_count": 38,
   "id": "50a8ba1b",
   "metadata": {
    "execution": {
     "iopub.execute_input": "2024-05-24T01:49:20.232734Z",
     "iopub.status.busy": "2024-05-24T01:49:20.232360Z",
     "iopub.status.idle": "2024-05-24T01:50:01.864860Z",
     "shell.execute_reply": "2024-05-24T01:50:01.864074Z"
    },
    "papermill": {
     "duration": 42.314751,
     "end_time": "2024-05-24T01:50:01.867161",
     "exception": false,
     "start_time": "2024-05-24T01:49:19.552410",
     "status": "completed"
    },
    "tags": []
   },
   "outputs": [
    {
     "name": "stdout",
     "output_type": "stream",
     "text": [
      "53/53 [==============================] - 115s 2s/step\n"
     ]
    }
   ],
   "source": [
    "from sklearn.metrics import roc_curve\n",
    "y_pred = model.predict(test_dataset).ravel()\n",
    "fpr, tpr, thresholds = roc_curve(y_test, y_pred)"
   ]
  },
  {
   "cell_type": "code",
   "execution_count": 39,
   "id": "5f920b8d",
   "metadata": {
    "execution": {
     "iopub.execute_input": "2024-05-24T01:50:03.295977Z",
     "iopub.status.busy": "2024-05-24T01:50:03.295147Z",
     "iopub.status.idle": "2024-05-24T01:50:03.300334Z",
     "shell.execute_reply": "2024-05-24T01:50:03.299284Z"
    },
    "papermill": {
     "duration": 0.691545,
     "end_time": "2024-05-24T01:50:03.302527",
     "exception": false,
     "start_time": "2024-05-24T01:50:02.610982",
     "status": "completed"
    },
    "tags": []
   },
   "outputs": [],
   "source": [
    "from sklearn.metrics import auc\n",
    "auc_score = auc(fpr, tpr)"
   ]
  },
  {
   "cell_type": "code",
   "execution_count": 40,
   "id": "60ee314c",
   "metadata": {
    "execution": {
     "iopub.execute_input": "2024-05-24T01:50:04.726618Z",
     "iopub.status.busy": "2024-05-24T01:50:04.726249Z",
     "iopub.status.idle": "2024-05-24T01:50:05.607787Z",
     "shell.execute_reply": "2024-05-24T01:50:05.606996Z"
    },
    "papermill": {
     "duration": 1.609927,
     "end_time": "2024-05-24T01:50:05.610143",
     "exception": false,
     "start_time": "2024-05-24T01:50:04.000216",
     "status": "completed"
    },
    "tags": []
   },
   "outputs": [],
   "source": [
    "y_pred = tf.where(y_pred < 0.5, 0, 1)"
   ]
  },
  {
   "cell_type": "code",
   "execution_count": 41,
   "id": "2cc34ed3",
   "metadata": {
    "execution": {
     "iopub.execute_input": "2024-05-24T01:50:06.977990Z",
     "iopub.status.busy": "2024-05-24T01:50:06.977600Z",
     "iopub.status.idle": "2024-05-24T01:50:06.998599Z",
     "shell.execute_reply": "2024-05-24T01:50:06.997609Z"
    },
    "papermill": {
     "duration": 0.715241,
     "end_time": "2024-05-24T01:50:07.000637",
     "exception": false,
     "start_time": "2024-05-24T01:50:06.285396",
     "status": "completed"
    },
    "tags": []
   },
   "outputs": [
    {
     "name": "stdout",
     "output_type": "stream",
     "text": [
      "              precision    recall  f1-score   support\n",
      "\n",
      "         0.0       0.85      0.88      0.87      3199\n",
      "         1.0       0.78      0.74      0.76      1868\n",
      "\n",
      "    accuracy                           0.83      5067\n",
      "   macro avg       0.82      0.81      0.81      5067\n",
      "weighted avg       0.83      0.83      0.83      5067\n",
      "\n"
     ]
    }
   ],
   "source": [
    "from sklearn.metrics import classification_report\n",
    "print(classification_report(y_test, y_pred))"
   ]
  },
  {
   "cell_type": "code",
   "execution_count": 42,
   "id": "8ddb3b80",
   "metadata": {
    "execution": {
     "iopub.execute_input": "2024-05-24T01:50:08.475711Z",
     "iopub.status.busy": "2024-05-24T01:50:08.474804Z",
     "iopub.status.idle": "2024-05-24T01:50:08.506566Z",
     "shell.execute_reply": "2024-05-24T01:50:08.505464Z"
    },
    "papermill": {
     "duration": 0.751513,
     "end_time": "2024-05-24T01:50:08.508866",
     "exception": false,
     "start_time": "2024-05-24T01:50:07.757353",
     "status": "completed"
    },
    "tags": []
   },
   "outputs": [
    {
     "name": "stdout",
     "output_type": "stream",
     "text": [
      "[[2807  392]\n",
      " [ 478 1390]]\n"
     ]
    }
   ],
   "source": [
    "from sklearn.metrics import confusion_matrix\n",
    "print(confusion_matrix(y_test, y_pred))"
   ]
  },
  {
   "cell_type": "markdown",
   "id": "50391fbd",
   "metadata": {
    "papermill": {
     "duration": 0.730766,
     "end_time": "2024-05-24T01:50:09.927590",
     "exception": false,
     "start_time": "2024-05-24T01:50:09.196824",
     "status": "completed"
    },
    "tags": []
   },
   "source": [
    "# Fine tune base model"
   ]
  },
  {
   "cell_type": "code",
   "execution_count": 43,
   "id": "fec3b364",
   "metadata": {
    "execution": {
     "iopub.execute_input": "2024-05-24T01:50:11.298538Z",
     "iopub.status.busy": "2024-05-24T01:50:11.297803Z",
     "iopub.status.idle": "2024-05-24T01:50:11.308378Z",
     "shell.execute_reply": "2024-05-24T01:50:11.307513Z"
    },
    "papermill": {
     "duration": 0.706761,
     "end_time": "2024-05-24T01:50:11.310196",
     "exception": false,
     "start_time": "2024-05-24T01:50:10.603435",
     "status": "completed"
    },
    "tags": []
   },
   "outputs": [],
   "source": [
    "base_model.trainable = True"
   ]
  },
  {
   "cell_type": "code",
   "execution_count": 44,
   "id": "4b493053",
   "metadata": {
    "execution": {
     "iopub.execute_input": "2024-05-24T01:50:12.721998Z",
     "iopub.status.busy": "2024-05-24T01:50:12.721331Z",
     "iopub.status.idle": "2024-05-24T01:50:12.726215Z",
     "shell.execute_reply": "2024-05-24T01:50:12.725296Z"
    },
    "papermill": {
     "duration": 0.685828,
     "end_time": "2024-05-24T01:50:12.728633",
     "exception": false,
     "start_time": "2024-05-24T01:50:12.042805",
     "status": "completed"
    },
    "tags": []
   },
   "outputs": [
    {
     "name": "stdout",
     "output_type": "stream",
     "text": [
      "Number of layers in the base model:  271\n"
     ]
    }
   ],
   "source": [
    "# Let's take a look to see how many layers are in the base model\n",
    "print(\"Number of layers in the base model: \", len(base_model.layers))"
   ]
  },
  {
   "cell_type": "code",
   "execution_count": 45,
   "id": "341ecaa2",
   "metadata": {
    "execution": {
     "iopub.execute_input": "2024-05-24T01:50:14.176078Z",
     "iopub.status.busy": "2024-05-24T01:50:14.175091Z",
     "iopub.status.idle": "2024-05-24T01:50:14.187153Z",
     "shell.execute_reply": "2024-05-24T01:50:14.186317Z"
    },
    "papermill": {
     "duration": 0.762432,
     "end_time": "2024-05-24T01:50:14.189122",
     "exception": false,
     "start_time": "2024-05-24T01:50:13.426690",
     "status": "completed"
    },
    "tags": []
   },
   "outputs": [],
   "source": [
    "# Fine-tune from this layer onwards\n",
    "start_fine_tune_at = 261\n",
    "\n",
    "# Freeze all the layers before the `start_fine_tune_at` layer\n",
    "for layer in base_model.layers[:start_fine_tune_at]:\n",
    "  layer.trainable = False"
   ]
  },
  {
   "cell_type": "markdown",
   "id": "371df0b8",
   "metadata": {
    "papermill": {
     "duration": 0.703905,
     "end_time": "2024-05-24T01:50:15.613311",
     "exception": false,
     "start_time": "2024-05-24T01:50:14.909406",
     "status": "completed"
    },
    "tags": []
   },
   "source": [
    "# Recompile model"
   ]
  },
  {
   "cell_type": "code",
   "execution_count": 46,
   "id": "34452fad",
   "metadata": {
    "execution": {
     "iopub.execute_input": "2024-05-24T01:50:16.961653Z",
     "iopub.status.busy": "2024-05-24T01:50:16.960962Z",
     "iopub.status.idle": "2024-05-24T01:50:16.999824Z",
     "shell.execute_reply": "2024-05-24T01:50:16.998935Z"
    },
    "papermill": {
     "duration": 0.715979,
     "end_time": "2024-05-24T01:50:17.001836",
     "exception": false,
     "start_time": "2024-05-24T01:50:16.285857",
     "status": "completed"
    },
    "tags": []
   },
   "outputs": [
    {
     "name": "stdout",
     "output_type": "stream",
     "text": [
      "Model: \"model_1\"\n",
      "_________________________________________________________________\n",
      " Layer (type)                Output Shape              Param #   \n",
      "=================================================================\n",
      " input_4 (InputLayer)        [(None, 224, 224, 3)]     0         \n",
      "                                                                 \n",
      " efficientnetv2-b0 (Functio  (None, 1280)              5919312   \n",
      " nal)                                                            \n",
      "                                                                 \n",
      " dropout_2 (Dropout)         (None, 1280)              0         \n",
      "                                                                 \n",
      " dense_4 (Dense)             (None, 2048)              2623488   \n",
      "                                                                 \n",
      " dropout_3 (Dropout)         (None, 2048)              0         \n",
      "                                                                 \n",
      " dense_5 (Dense)             (None, 1024)              2098176   \n",
      "                                                                 \n",
      " dense_3 (Dense)             (None, 1)                 1025      \n",
      "                                                                 \n",
      "=================================================================\n",
      "Total params: 10642001 (40.60 MB)\n",
      "Trainable params: 5249025 (20.02 MB)\n",
      "Non-trainable params: 5392976 (20.57 MB)\n",
      "_________________________________________________________________\n"
     ]
    }
   ],
   "source": [
    "model.compile(loss=tf.keras.losses.BinaryCrossentropy(),\n",
    "              optimizer = tf.keras.optimizers.RMSprop(learning_rate=base_learning_rate/10),\n",
    "              metrics=[tf.keras.metrics.BinaryAccuracy(threshold=0.5, name='accuracy')])\n",
    "\n",
    "model.summary()"
   ]
  },
  {
   "cell_type": "markdown",
   "id": "342391d5",
   "metadata": {
    "papermill": {
     "duration": 0.676568,
     "end_time": "2024-05-24T01:50:18.410733",
     "exception": false,
     "start_time": "2024-05-24T01:50:17.734165",
     "status": "completed"
    },
    "tags": []
   },
   "source": [
    "# Retrain model"
   ]
  },
  {
   "cell_type": "code",
   "execution_count": 47,
   "id": "7f61d9fc",
   "metadata": {
    "execution": {
     "iopub.execute_input": "2024-05-24T01:50:19.762913Z",
     "iopub.status.busy": "2024-05-24T01:50:19.762533Z",
     "iopub.status.idle": "2024-05-24T02:45:43.085566Z",
     "shell.execute_reply": "2024-05-24T02:45:43.084715Z"
    },
    "papermill": {
     "duration": 3324.00611,
     "end_time": "2024-05-24T02:45:43.087697",
     "exception": false,
     "start_time": "2024-05-24T01:50:19.081587",
     "status": "completed"
    },
    "tags": []
   },
   "outputs": [
    {
     "name": "stdout",
     "output_type": "stream",
     "text": [
      "Epoch 51/100\n",
      "159/159 [==============================] - 484s 3s/step - loss: 0.2490 - accuracy: 0.8874 - val_loss: 0.4430 - val_accuracy: 0.8289\n",
      "Epoch 52/100\n",
      "159/159 [==============================] - 470s 3s/step - loss: 0.2406 - accuracy: 0.8935 - val_loss: 0.4369 - val_accuracy: 0.8287\n",
      "Epoch 53/100\n",
      "159/159 [==============================] - 471s 3s/step - loss: 0.2291 - accuracy: 0.8987 - val_loss: 0.4580 - val_accuracy: 0.8316\n",
      "Epoch 54/100\n",
      "159/159 [==============================] - 471s 3s/step - loss: 0.2242 - accuracy: 0.9001 - val_loss: 0.4396 - val_accuracy: 0.8375\n",
      "Epoch 55/100\n",
      "159/159 [==============================] - 472s 3s/step - loss: 0.2220 - accuracy: 0.9012 - val_loss: 0.4468 - val_accuracy: 0.8310\n",
      "Epoch 56/100\n",
      "159/159 [==============================] - 471s 3s/step - loss: 0.2129 - accuracy: 0.9046 - val_loss: 0.4511 - val_accuracy: 0.8298\n",
      "Epoch 57/100\n",
      "159/159 [==============================] - 468s 3s/step - loss: 0.2114 - accuracy: 0.9064 - val_loss: 0.4410 - val_accuracy: 0.8366\n",
      "Epoch 58/100\n",
      "159/159 [==============================] - 472s 3s/step - loss: 0.2074 - accuracy: 0.9078 - val_loss: 0.4375 - val_accuracy: 0.8413\n",
      "Epoch 59/100\n",
      "159/159 [==============================] - 470s 3s/step - loss: 0.2075 - accuracy: 0.9109 - val_loss: 0.4296 - val_accuracy: 0.8411\n",
      "Epoch 60/100\n",
      "159/159 [==============================] - 470s 3s/step - loss: 0.1961 - accuracy: 0.9147 - val_loss: 0.4528 - val_accuracy: 0.8407\n",
      "Epoch 61/100\n",
      "159/159 [==============================] - 451s 3s/step - loss: 0.1996 - accuracy: 0.9133 - val_loss: 0.4523 - val_accuracy: 0.8356\n",
      "Epoch 62/100\n",
      "159/159 [==============================] - 428s 3s/step - loss: 0.1929 - accuracy: 0.9151 - val_loss: 0.4571 - val_accuracy: 0.8441\n",
      "Epoch 63/100\n",
      "159/159 [==============================] - 486s 3s/step - loss: 0.1878 - accuracy: 0.9174 - val_loss: 0.4531 - val_accuracy: 0.8466\n",
      "Epoch 64/100\n",
      "159/159 [==============================] - 483s 3s/step - loss: 0.1877 - accuracy: 0.9164 - val_loss: 0.4628 - val_accuracy: 0.8419\n",
      "Epoch 65/100\n",
      "159/159 [==============================] - 481s 3s/step - loss: 0.1859 - accuracy: 0.9191 - val_loss: 0.4478 - val_accuracy: 0.8429\n",
      "Epoch 66/100\n",
      "159/159 [==============================] - 484s 3s/step - loss: 0.1866 - accuracy: 0.9188 - val_loss: 0.4571 - val_accuracy: 0.8433\n",
      "Epoch 67/100\n",
      "159/159 [==============================] - 481s 3s/step - loss: 0.1762 - accuracy: 0.9229 - val_loss: 0.4779 - val_accuracy: 0.8401\n",
      "Epoch 68/100\n",
      "159/159 [==============================] - 483s 3s/step - loss: 0.1804 - accuracy: 0.9214 - val_loss: 0.4880 - val_accuracy: 0.8316\n",
      "Epoch 69/100\n",
      "159/159 [==============================] - 480s 3s/step - loss: 0.1685 - accuracy: 0.9264 - val_loss: 0.5161 - val_accuracy: 0.8460\n",
      "Epoch 70/100\n",
      "159/159 [==============================] - 480s 3s/step - loss: 0.1714 - accuracy: 0.9264 - val_loss: 0.4654 - val_accuracy: 0.8336\n",
      "Epoch 71/100\n",
      "159/159 [==============================] - 471s 3s/step - loss: 0.1664 - accuracy: 0.9281 - val_loss: 0.4905 - val_accuracy: 0.8472\n",
      "Epoch 72/100\n",
      "159/159 [==============================] - 475s 3s/step - loss: 0.1659 - accuracy: 0.9278 - val_loss: 0.4815 - val_accuracy: 0.8456\n",
      "Epoch 73/100\n",
      "159/159 [==============================] - 473s 3s/step - loss: 0.1641 - accuracy: 0.9309 - val_loss: 0.4915 - val_accuracy: 0.8482\n",
      "Epoch 74/100\n",
      "159/159 [==============================] - 473s 3s/step - loss: 0.1592 - accuracy: 0.9316 - val_loss: 0.4911 - val_accuracy: 0.8464\n",
      "Epoch 75/100\n",
      "159/159 [==============================] - 471s 3s/step - loss: 0.1579 - accuracy: 0.9321 - val_loss: 0.4990 - val_accuracy: 0.8439\n",
      "Epoch 76/100\n",
      "159/159 [==============================] - 472s 3s/step - loss: 0.1548 - accuracy: 0.9340 - val_loss: 0.5000 - val_accuracy: 0.8466\n",
      "Epoch 77/100\n",
      "159/159 [==============================] - 470s 3s/step - loss: 0.1531 - accuracy: 0.9363 - val_loss: 0.5149 - val_accuracy: 0.8478\n",
      "Epoch 78/100\n",
      "159/159 [==============================] - 473s 3s/step - loss: 0.1532 - accuracy: 0.9344 - val_loss: 0.4938 - val_accuracy: 0.8464\n",
      "Epoch 79/100\n",
      "159/159 [==============================] - 472s 3s/step - loss: 0.1495 - accuracy: 0.9363 - val_loss: 0.5011 - val_accuracy: 0.8478\n",
      "Epoch 80/100\n",
      "159/159 [==============================] - 472s 3s/step - loss: 0.1447 - accuracy: 0.9388 - val_loss: 0.4892 - val_accuracy: 0.8415\n",
      "Epoch 81/100\n",
      "159/159 [==============================] - 472s 3s/step - loss: 0.1484 - accuracy: 0.9356 - val_loss: 0.5023 - val_accuracy: 0.8480\n",
      "Epoch 82/100\n",
      "159/159 [==============================] - 473s 3s/step - loss: 0.1428 - accuracy: 0.9383 - val_loss: 0.5275 - val_accuracy: 0.8474\n",
      "Epoch 83/100\n",
      "159/159 [==============================] - 473s 3s/step - loss: 0.1396 - accuracy: 0.9422 - val_loss: 0.5257 - val_accuracy: 0.8494\n",
      "Epoch 84/100\n",
      "159/159 [==============================] - 472s 3s/step - loss: 0.1374 - accuracy: 0.9420 - val_loss: 0.5248 - val_accuracy: 0.8482\n",
      "Epoch 85/100\n",
      "159/159 [==============================] - 474s 3s/step - loss: 0.1368 - accuracy: 0.9418 - val_loss: 0.5181 - val_accuracy: 0.8421\n",
      "Epoch 86/100\n",
      "159/159 [==============================] - 472s 3s/step - loss: 0.1349 - accuracy: 0.9422 - val_loss: 0.5187 - val_accuracy: 0.8403\n",
      "Epoch 87/100\n",
      "159/159 [==============================] - 471s 3s/step - loss: 0.1301 - accuracy: 0.9453 - val_loss: 0.5692 - val_accuracy: 0.8277\n",
      "Epoch 88/100\n",
      "159/159 [==============================] - 470s 3s/step - loss: 0.1288 - accuracy: 0.9473 - val_loss: 0.5563 - val_accuracy: 0.8512\n",
      "Epoch 89/100\n",
      "159/159 [==============================] - 462s 3s/step - loss: 0.1314 - accuracy: 0.9445 - val_loss: 0.5125 - val_accuracy: 0.8510\n",
      "Epoch 90/100\n",
      "159/159 [==============================] - 413s 3s/step - loss: 0.1299 - accuracy: 0.9459 - val_loss: 0.5459 - val_accuracy: 0.8484\n",
      "Epoch 91/100\n",
      "159/159 [==============================] - 470s 3s/step - loss: 0.1253 - accuracy: 0.9482 - val_loss: 0.5583 - val_accuracy: 0.8523\n",
      "Epoch 92/100\n",
      "159/159 [==============================] - 473s 3s/step - loss: 0.1239 - accuracy: 0.9469 - val_loss: 0.5469 - val_accuracy: 0.8409\n",
      "Epoch 93/100\n",
      "159/159 [==============================] - 471s 3s/step - loss: 0.1248 - accuracy: 0.9473 - val_loss: 0.5668 - val_accuracy: 0.8484\n",
      "Epoch 94/100\n",
      "159/159 [==============================] - 473s 3s/step - loss: 0.1221 - accuracy: 0.9499 - val_loss: 0.5482 - val_accuracy: 0.8510\n",
      "Epoch 95/100\n",
      "159/159 [==============================] - 470s 3s/step - loss: 0.1183 - accuracy: 0.9510 - val_loss: 0.5628 - val_accuracy: 0.8510\n",
      "Epoch 96/100\n",
      "159/159 [==============================] - 471s 3s/step - loss: 0.1122 - accuracy: 0.9523 - val_loss: 0.5701 - val_accuracy: 0.8452\n",
      "Epoch 97/100\n",
      "159/159 [==============================] - 474s 3s/step - loss: 0.1122 - accuracy: 0.9532 - val_loss: 0.5614 - val_accuracy: 0.8464\n",
      "Epoch 98/100\n",
      "159/159 [==============================] - 472s 3s/step - loss: 0.1100 - accuracy: 0.9540 - val_loss: 0.5637 - val_accuracy: 0.8478\n",
      "Epoch 99/100\n",
      "159/159 [==============================] - 472s 3s/step - loss: 0.1062 - accuracy: 0.9561 - val_loss: 0.5805 - val_accuracy: 0.8492\n",
      "Epoch 100/100\n",
      "159/159 [==============================] - 470s 3s/step - loss: 0.1055 - accuracy: 0.9565 - val_loss: 0.5863 - val_accuracy: 0.8545\n"
     ]
    }
   ],
   "source": [
    "fine_tune_epochs = CFG.epochs\n",
    "total_epochs =  initial_epochs + fine_tune_epochs\n",
    "\n",
    "history_fine = model.fit(train_dataset,\n",
    "                         epochs=total_epochs,\n",
    "                         initial_epoch=len(history.epoch),\n",
    "                         validation_data=validation_dataset)\n"
   ]
  },
  {
   "cell_type": "markdown",
   "id": "349f5437",
   "metadata": {
    "papermill": {
     "duration": 1.336601,
     "end_time": "2024-05-24T02:45:45.835087",
     "exception": false,
     "start_time": "2024-05-24T02:45:44.498486",
     "status": "completed"
    },
    "tags": []
   },
   "source": [
    "# Plot retraining"
   ]
  },
  {
   "cell_type": "code",
   "execution_count": 48,
   "id": "559b289d",
   "metadata": {
    "execution": {
     "iopub.execute_input": "2024-05-24T02:45:48.589971Z",
     "iopub.status.busy": "2024-05-24T02:45:48.589596Z",
     "iopub.status.idle": "2024-05-24T02:45:48.997649Z",
     "shell.execute_reply": "2024-05-24T02:45:48.996794Z"
    },
    "papermill": {
     "duration": 1.758305,
     "end_time": "2024-05-24T02:45:49.000132",
     "exception": false,
     "start_time": "2024-05-24T02:45:47.241827",
     "status": "completed"
    },
    "tags": []
   },
   "outputs": [
    {
     "data": {
      "image/png": "[encoded data removed]",
      "text/plain": [
       "<Figure size 800x800 with 2 Axes>"
      ]
     },
     "metadata": {},
     "output_type": "display_data"
    }
   ],
   "source": [
    "acc += history_fine.history['accuracy']\n",
    "val_acc += history_fine.history['val_accuracy']\n",
    "\n",
    "loss += history_fine.history['loss']\n",
    "val_loss += history_fine.history['val_loss']\n",
    "\n",
    "plt.figure(figsize=(8, 8))\n",
    "plt.subplot(2, 1, 1)\n",
    "plt.plot(acc, label='Training Accuracy')\n",
    "plt.plot(val_acc, label='Validation Accuracy')\n",
    "plt.ylim([0.7, 1])\n",
    "plt.plot([initial_epochs-1,initial_epochs-1],\n",
    "          plt.ylim(), label='Start Fine Tuning')\n",
    "plt.legend(loc='lower right')\n",
    "plt.title('Training and Validation Accuracy')\n",
    "\n",
    "plt.subplot(2, 1, 2)\n",
    "plt.plot(loss, label='Training Loss')\n",
    "plt.plot(val_loss, label='Validation Loss')\n",
    "plt.ylim([0, 1.0])\n",
    "plt.plot([initial_epochs-1,initial_epochs-1],\n",
    "         plt.ylim(), label='Start Fine Tuning')\n",
    "plt.legend(loc='upper right')\n",
    "plt.title('Training and Validation Loss')\n",
    "plt.xlabel('epoch')\n",
    "plt.show()"
   ]
  },
  {
   "cell_type": "markdown",
   "id": "7bbe8c58",
   "metadata": {
    "papermill": {
     "duration": 1.364496,
     "end_time": "2024-05-24T02:45:51.764695",
     "exception": false,
     "start_time": "2024-05-24T02:45:50.400199",
     "status": "completed"
    },
    "tags": []
   },
   "source": [
    "# Evaluate training"
   ]
  },
  {
   "cell_type": "code",
   "execution_count": 49,
   "id": "57486dc2",
   "metadata": {
    "execution": {
     "iopub.execute_input": "2024-05-24T02:45:54.523701Z",
     "iopub.status.busy": "2024-05-24T02:45:54.523338Z",
     "iopub.status.idle": "2024-05-24T02:46:13.143441Z",
     "shell.execute_reply": "2024-05-24T02:46:13.142478Z"
    },
    "papermill": {
     "duration": 19.954098,
     "end_time": "2024-05-24T02:46:13.145353",
     "exception": false,
     "start_time": "2024-05-24T02:45:53.191255",
     "status": "completed"
    },
    "tags": []
   },
   "outputs": [
    {
     "name": "stdout",
     "output_type": "stream",
     "text": [
      "53/53 [==============================] - 112s 2s/step - loss: 0.6036 - accuracy: 0.8459\n",
      "Test accuracy : 0.8458654284477234\n"
     ]
    }
   ],
   "source": [
    "loss, accuracy = model.evaluate(test_dataset)\n",
    "print('Test accuracy :', accuracy)"
   ]
  },
  {
   "cell_type": "code",
   "execution_count": 50,
   "id": "518c5d50",
   "metadata": {
    "execution": {
     "iopub.execute_input": "2024-05-24T02:46:15.883020Z",
     "iopub.status.busy": "2024-05-24T02:46:15.882294Z",
     "iopub.status.idle": "2024-05-24T02:46:40.258400Z",
     "shell.execute_reply": "2024-05-24T02:46:40.257425Z"
    },
    "papermill": {
     "duration": 25.711587,
     "end_time": "2024-05-24T02:46:40.260865",
     "exception": false,
     "start_time": "2024-05-24T02:46:14.549278",
     "status": "completed"
    },
    "tags": []
   },
   "outputs": [
    {
     "name": "stdout",
     "output_type": "stream",
     "text": [
      "53/53 [==============================] - 116s 2s/step\n"
     ]
    }
   ],
   "source": [
    "from sklearn.metrics import roc_curve\n",
    "fine_y_pred = model.predict(test_dataset).ravel()\n",
    "fine_fpr, fine_tpr, fine_thresholds = roc_curve(y_test, fine_y_pred)"
   ]
  },
  {
   "cell_type": "code",
   "execution_count": 51,
   "id": "2a9c6bd1",
   "metadata": {
    "execution": {
     "iopub.execute_input": "2024-05-24T02:46:43.059714Z",
     "iopub.status.busy": "2024-05-24T02:46:43.058871Z",
     "iopub.status.idle": "2024-05-24T02:46:43.063831Z",
     "shell.execute_reply": "2024-05-24T02:46:43.062862Z"
    },
    "papermill": {
     "duration": 1.352557,
     "end_time": "2024-05-24T02:46:43.065752",
     "exception": false,
     "start_time": "2024-05-24T02:46:41.713195",
     "status": "completed"
    },
    "tags": []
   },
   "outputs": [],
   "source": [
    "from sklearn.metrics import auc\n",
    "fine_auc_score = auc(fine_fpr, fine_tpr)"
   ]
  },
  {
   "cell_type": "code",
   "execution_count": 52,
   "id": "c10234c7",
   "metadata": {
    "execution": {
     "iopub.execute_input": "2024-05-24T02:46:45.860963Z",
     "iopub.status.busy": "2024-05-24T02:46:45.860620Z",
     "iopub.status.idle": "2024-05-24T02:46:46.321230Z",
     "shell.execute_reply": "2024-05-24T02:46:46.320317Z"
    },
    "papermill": {
     "duration": 1.809879,
     "end_time": "2024-05-24T02:46:46.323383",
     "exception": false,
     "start_time": "2024-05-24T02:46:44.513504",
     "status": "completed"
    },
    "tags": []
   },
   "outputs": [
    {
     "data": {
      "image/png": "[encoded data removed]",
      "text/plain": [
       "<Figure size 640x480 with 1 Axes>"
      ]
     },
     "metadata": {},
     "output_type": "display_data"
    },
    {
     "data": {
      "image/png": "[encoded data removed]",
      "text/plain": [
       "<Figure size 640x480 with 1 Axes>"
      ]
     },
     "metadata": {},
     "output_type": "display_data"
    }
   ],
   "source": [
    "plt.figure(1)\n",
    "plt.plot([0, 1], [0, 1], 'k--')\n",
    "plt.plot(fine_fpr, fine_tpr, label='Fine-tuned (area = {:.3f})'.format(fine_auc_score))\n",
    "plt.plot(fpr, tpr, label='Untrained (area = {:.3f})'.format(auc_score))\n",
    "plt.xlabel('False positive rate')\n",
    "plt.ylabel('True positive rate')\n",
    "plt.title('ROC curve')\n",
    "plt.legend(loc='best')\n",
    "plt.show()\n",
    "# Zoom in view of the upper left corner.\n",
    "plt.figure(2)\n",
    "plt.xlim(0, 0.3)\n",
    "plt.ylim(0.7, 1)\n",
    "plt.plot([0, 1], [0, 1], 'k--')\n",
    "plt.plot(fine_fpr, fine_tpr, label='Fine-tuned (area = {:.3f})'.format(fine_auc_score))\n",
    "plt.plot(fpr, tpr, label='Untrained (area = {:.3f})'.format(auc_score))\n",
    "plt.xlabel('False positive rate')\n",
    "plt.ylabel('True positive rate')\n",
    "plt.title('ROC curve (zoomed in at top left)')\n",
    "plt.legend(loc='best')\n",
    "plt.show()"
   ]
  },
  {
   "cell_type": "code",
   "execution_count": 53,
   "id": "0ee352f1",
   "metadata": {
    "execution": {
     "iopub.execute_input": "2024-05-24T02:46:49.107116Z",
     "iopub.status.busy": "2024-05-24T02:46:49.106305Z",
     "iopub.status.idle": "2024-05-24T02:46:49.111315Z",
     "shell.execute_reply": "2024-05-24T02:46:49.110520Z"
    },
    "papermill": {
     "duration": 1.353342,
     "end_time": "2024-05-24T02:46:49.113156",
     "exception": false,
     "start_time": "2024-05-24T02:46:47.759814",
     "status": "completed"
    },
    "tags": []
   },
   "outputs": [],
   "source": [
    "fine_y_pred = tf.where(fine_y_pred < 0.5, 0, 1)"
   ]
  },
  {
   "cell_type": "code",
   "execution_count": 54,
   "id": "e455003c",
   "metadata": {
    "execution": {
     "iopub.execute_input": "2024-05-24T02:46:51.893394Z",
     "iopub.status.busy": "2024-05-24T02:46:51.893006Z",
     "iopub.status.idle": "2024-05-24T02:46:51.907592Z",
     "shell.execute_reply": "2024-05-24T02:46:51.906644Z"
    },
    "papermill": {
     "duration": 1.45641,
     "end_time": "2024-05-24T02:46:51.909641",
     "exception": false,
     "start_time": "2024-05-24T02:46:50.453231",
     "status": "completed"
    },
    "tags": []
   },
   "outputs": [
    {
     "name": "stdout",
     "output_type": "stream",
     "text": [
      "              precision    recall  f1-score   support\n",
      "\n",
      "         0.0       0.86      0.90      0.88      3199\n",
      "         1.0       0.81      0.76      0.78      1868\n",
      "\n",
      "    accuracy                           0.85      5067\n",
      "   macro avg       0.84      0.83      0.83      5067\n",
      "weighted avg       0.84      0.85      0.84      5067\n",
      "\n"
     ]
    }
   ],
   "source": [
    "from sklearn.metrics import classification_report\n",
    "print(classification_report(y_test, fine_y_pred))"
   ]
  },
  {
   "cell_type": "code",
   "execution_count": 55,
   "id": "a2ddc025",
   "metadata": {
    "execution": {
     "iopub.execute_input": "2024-05-24T02:46:54.687157Z",
     "iopub.status.busy": "2024-05-24T02:46:54.686781Z",
     "iopub.status.idle": "2024-05-24T02:46:54.714255Z",
     "shell.execute_reply": "2024-05-24T02:46:54.712995Z"
    },
    "papermill": {
     "duration": 1.37211,
     "end_time": "2024-05-24T02:46:54.716261",
     "exception": false,
     "start_time": "2024-05-24T02:46:53.344151",
     "status": "completed"
    },
    "tags": []
   },
   "outputs": [
    {
     "name": "stdout",
     "output_type": "stream",
     "text": [
      "[[2866  333]\n",
      " [ 448 1420]]\n"
     ]
    }
   ],
   "source": [
    "from sklearn.metrics import confusion_matrix\n",
    "print(confusion_matrix(y_test, fine_y_pred))"
   ]
  },
  {
   "cell_type": "code",
   "execution_count": 56,
   "id": "046853ee",
   "metadata": {
    "execution": {
     "iopub.execute_input": "2024-05-24T02:46:57.493714Z",
     "iopub.status.busy": "2024-05-24T02:46:57.493334Z",
     "iopub.status.idle": "2024-05-24T02:46:57.842560Z",
     "shell.execute_reply": "2024-05-24T02:46:57.841645Z"
    },
    "papermill": {
     "duration": 1.715628,
     "end_time": "2024-05-24T02:46:57.845838",
     "exception": false,
     "start_time": "2024-05-24T02:46:56.130210",
     "status": "completed"
    },
    "tags": []
   },
   "outputs": [
    {
     "name": "stdout",
     "output_type": "stream",
     "text": [
      "You must install pydot (`pip install pydot`) and install graphviz (see instructions at https://graphviz.gitlab.io/download/) for plot_model to work.\n"
     ]
    }
   ],
   "source": [
    "keras.utils.plot_model(model, show_shapes=True)"
   ]
  },
  {
   "cell_type": "code",
   "execution_count": 57,
   "id": "34c00c5b",
   "metadata": {},
   "outputs": [
    {
     "name": "stderr",
     "output_type": "stream",
     "text": [
      "c:\\Python311\\Lib\\site-packages\\keras\\src\\engine\\training.py:3103: UserWarning: You are saving your model as an HDF5 file via `model.save()`. This file format is considered legacy. We recommend using instead the native Keras format, e.g. `model.save('my_model.keras')`.\n",
      "  saving_api.save_model(\n"
     ]
    }
   ],
   "source": [
    "model.save('my_model.keras')"
   ]
  }
 ],
 "metadata": {
  "kaggle": {
   "accelerator": "gpu",
   "dataSources": [
    {
     "datasetId": 679322,
     "sourceId": 1193409,
     "sourceType": "datasetVersion"
    }
   ],
   "dockerImageVersionId": 30699,
   "isGpuEnabled": true,
   "isInternetEnabled": true,
   "language": "python",
   "sourceType": "notebook"
  },
  "kernelspec": {
   "display_name": "Python 3",
   "language": "python",
   "name": "python3"
  },
  "language_info": {
   "codemirror_mode": {
    "name": "ipython",
    "version": 3
   },
   "file_extension": ".py",
   "mimetype": "text/x-python",
   "name": "python",
   "nbconvert_exporter": "python",
   "pygments_lexer": "ipython3",
   "version": "3.11.5"
  },
  "papermill": {
   "default_parameters": {},
   "duration": 6759.728786,
   "end_time": "2024-05-24T02:47:03.260723",
   "environment_variables": {},
   "exception": null,
   "input_path": "__notebook__.ipynb",
   "output_path": "__notebook__.ipynb",
   "parameters": {},
   "start_time": "2024-05-24T00:54:23.531937",
   "version": "2.5.0"
  }
 },
 "nbformat": 4,
 "nbformat_minor": 5
}
